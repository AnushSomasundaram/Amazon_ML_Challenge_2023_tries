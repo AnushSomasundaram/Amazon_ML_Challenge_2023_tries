{
 "cells": [
  {
   "cell_type": "code",
   "execution_count": 8,
   "id": "2f52ef7c",
   "metadata": {},
   "outputs": [],
   "source": [
    "import pandas as pd\n",
    "import spacy\n",
    "from tqdm import tqdm"
   ]
  },
  {
   "cell_type": "code",
   "execution_count": 2,
   "id": "93b92c77",
   "metadata": {},
   "outputs": [],
   "source": [
    "test_df = pd.read_csv(\"cleaned_test.csv\")\n",
    "train_df = pd.read_csv(\"cleaned_train.csv\")"
   ]
  },
  {
   "cell_type": "code",
   "execution_count": 13,
   "id": "9edd5b4e",
   "metadata": {},
   "outputs": [],
   "source": [
    "product_id_list = train_df[\"PRODUCT_ID\"][:40000].to_list()\n",
    "title_list = train_df[\"TITLE\"][:40000].to_list()\n",
    "text_list = train_df[\"TEXT\"][:40000].to_list()\n"
   ]
  },
  {
   "cell_type": "code",
   "execution_count": 9,
   "id": "7cce0f58",
   "metadata": {},
   "outputs": [
    {
     "name": "stderr",
     "output_type": "stream",
     "text": [
      "100%|█████████████████████████████████████| 40000/40000 [09:01<00:00, 73.80it/s]\n"
     ]
    },
    {
     "ename": "TypeError",
     "evalue": "dict expected at most 1 argument, got 2",
     "output_type": "error",
     "traceback": [
      "\u001b[0;31m---------------------------------------------------------------------------\u001b[0m",
      "\u001b[0;31mTypeError\u001b[0m                                 Traceback (most recent call last)",
      "Cell \u001b[0;32mIn[9], line 22\u001b[0m\n\u001b[1;32m     19\u001b[0m     doc \u001b[38;5;241m=\u001b[39m nlp(\u001b[38;5;28mstr\u001b[39m(element))\n\u001b[1;32m     20\u001b[0m     ents\u001b[38;5;241m.\u001b[39mappend(\u001b[38;5;28mstr\u001b[39m(get_ents(doc)))\n\u001b[0;32m---> 22\u001b[0m required_entity_dataframe \u001b[38;5;241m=\u001b[39m pd\u001b[38;5;241m.\u001b[39mDataFrame(\u001b[38;5;28;43mdict\u001b[39;49m\u001b[43m(\u001b[49m\u001b[43mtitle_list\u001b[49m\u001b[43m,\u001b[49m\u001b[43ments\u001b[49m\u001b[43m)\u001b[49m)\n",
      "\u001b[0;31mTypeError\u001b[0m: dict expected at most 1 argument, got 2"
     ]
    }
   ],
   "source": [
    "spacy.require_gpu()\n",
    "\n",
    "nlp = spacy.load(\"en_core_web_sm\")\n",
    "\n",
    "\n",
    "def get_ents(doc):\n",
    "    if doc.ents:\n",
    "        for ent in doc.ents:\n",
    "            #return(f\"ent.text -> {ent.text}, ent.start-> {ent.start}, ent.end -> {ent.end}, ent.start_char-> {ent.start_char}, ent.end_char ->{ent.end_char}, ent.label_ ->{ent.label_}\")\n",
    "            return(f\"{ent.text}, \")\n",
    "    else:\n",
    "        return(\"No entities found\")\n",
    "\n",
    "\n",
    "ents = []\n",
    "\n",
    "for element in tqdm(text_list) :\n",
    "    \n",
    "    doc = nlp(str(element))\n",
    "    ents.append(str(get_ents(doc)))\n",
    "    \n",
    "\n"
   ]
  },
  {
   "cell_type": "code",
   "execution_count": 14,
   "id": "b422bb1b",
   "metadata": {},
   "outputs": [],
   "source": [
    "required_entity_dataframe  = pd.DataFrame()\n",
    "required_entity_dataframe[\"PRODUCT_ID\"] = product_id_list\n",
    "required_entity_dataframe[\"TITLE\"] = title_list\n",
    "required_entity_dataframe[\"ENTS\"]= ents"
   ]
  },
  {
   "cell_type": "code",
   "execution_count": 15,
   "id": "c8dc43ed",
   "metadata": {},
   "outputs": [
    {
     "data": {
      "text/html": [
       "<div>\n",
       "<style scoped>\n",
       "    .dataframe tbody tr th:only-of-type {\n",
       "        vertical-align: middle;\n",
       "    }\n",
       "\n",
       "    .dataframe tbody tr th {\n",
       "        vertical-align: top;\n",
       "    }\n",
       "\n",
       "    .dataframe thead th {\n",
       "        text-align: right;\n",
       "    }\n",
       "</style>\n",
       "<table border=\"1\" class=\"dataframe\">\n",
       "  <thead>\n",
       "    <tr style=\"text-align: right;\">\n",
       "      <th></th>\n",
       "      <th>PRODUCT_ID</th>\n",
       "      <th>TITLE</th>\n",
       "      <th>ENTS</th>\n",
       "    </tr>\n",
       "  </thead>\n",
       "  <tbody>\n",
       "    <tr>\n",
       "      <th>0</th>\n",
       "      <td>1925202</td>\n",
       "      <td>ArtzFolio Tulip Flowers Blackout Curtain for D...</td>\n",
       "      <td>ent.text -&gt; 54inch, ent.label_ -&gt;ORDINAL</td>\n",
       "    </tr>\n",
       "    <tr>\n",
       "      <th>1</th>\n",
       "      <td>2673191</td>\n",
       "      <td>Marks &amp; Spencer Girls' Pyjama Sets T86_2561C_N...</td>\n",
       "      <td>ent.text -&gt; 616, ent.label_ -&gt;CARDINAL</td>\n",
       "    </tr>\n",
       "    <tr>\n",
       "      <th>2</th>\n",
       "      <td>2765088</td>\n",
       "      <td>PRIKNIK Horn Red Electric Air Horn Compressor ...</td>\n",
       "      <td>ent.text -&gt; 12v, ent.label_ -&gt;DATE</td>\n",
       "    </tr>\n",
       "    <tr>\n",
       "      <th>3</th>\n",
       "      <td>1594019</td>\n",
       "      <td>ALISHAH Women's Cotton Ankle Length Leggings C...</td>\n",
       "      <td>ent.text -&gt; 2, ent.label_ -&gt;CARDINAL</td>\n",
       "    </tr>\n",
       "    <tr>\n",
       "      <th>4</th>\n",
       "      <td>283658</td>\n",
       "      <td>The United Empire Loyalists: A Chronicle of th...</td>\n",
       "      <td>ent.text -&gt; united empire, ent.label_ -&gt;ORG</td>\n",
       "    </tr>\n",
       "    <tr>\n",
       "      <th>...</th>\n",
       "      <td>...</td>\n",
       "      <td>...</td>\n",
       "      <td>...</td>\n",
       "    </tr>\n",
       "    <tr>\n",
       "      <th>39995</th>\n",
       "      <td>1721150</td>\n",
       "      <td>INVENTO 1PCS 0.28\" LED Voltmeter Ammeter, Red ...</td>\n",
       "      <td>ent.text -&gt; 1pcs 028, ent.label_ -&gt;DATE</td>\n",
       "    </tr>\n",
       "    <tr>\n",
       "      <th>39996</th>\n",
       "      <td>2213385</td>\n",
       "      <td>Kawn Enamelled Metal Crystal Easter Floral Gol...</td>\n",
       "      <td>ent.text -&gt; 15, ent.label_ -&gt;CARDINAL</td>\n",
       "    </tr>\n",
       "    <tr>\n",
       "      <th>39997</th>\n",
       "      <td>828894</td>\n",
       "      <td>Halex Beach Toss Jai Lai Botas (Purple/Green)</td>\n",
       "      <td>ent.text -&gt; halex beach, ent.label_ -&gt;GPE</td>\n",
       "    </tr>\n",
       "    <tr>\n",
       "      <th>39998</th>\n",
       "      <td>549617</td>\n",
       "      <td>Handbook of Enemy Ammunition: War Office Pamph...</td>\n",
       "      <td>ent.text -&gt; 10, ent.label_ -&gt;CARDINAL</td>\n",
       "    </tr>\n",
       "    <tr>\n",
       "      <th>39999</th>\n",
       "      <td>953649</td>\n",
       "      <td>Top of The World NCAA Triple Threat Wool Adjus...</td>\n",
       "      <td>ent.text -&gt; one, ent.label_ -&gt;CARDINAL</td>\n",
       "    </tr>\n",
       "  </tbody>\n",
       "</table>\n",
       "<p>40000 rows × 3 columns</p>\n",
       "</div>"
      ],
      "text/plain": [
       "       PRODUCT_ID                                              TITLE  \\\n",
       "0         1925202  ArtzFolio Tulip Flowers Blackout Curtain for D...   \n",
       "1         2673191  Marks & Spencer Girls' Pyjama Sets T86_2561C_N...   \n",
       "2         2765088  PRIKNIK Horn Red Electric Air Horn Compressor ...   \n",
       "3         1594019  ALISHAH Women's Cotton Ankle Length Leggings C...   \n",
       "4          283658  The United Empire Loyalists: A Chronicle of th...   \n",
       "...           ...                                                ...   \n",
       "39995     1721150  INVENTO 1PCS 0.28\" LED Voltmeter Ammeter, Red ...   \n",
       "39996     2213385  Kawn Enamelled Metal Crystal Easter Floral Gol...   \n",
       "39997      828894      Halex Beach Toss Jai Lai Botas (Purple/Green)   \n",
       "39998      549617  Handbook of Enemy Ammunition: War Office Pamph...   \n",
       "39999      953649  Top of The World NCAA Triple Threat Wool Adjus...   \n",
       "\n",
       "                                              ENTS  \n",
       "0         ent.text -> 54inch, ent.label_ ->ORDINAL  \n",
       "1           ent.text -> 616, ent.label_ ->CARDINAL  \n",
       "2               ent.text -> 12v, ent.label_ ->DATE  \n",
       "3             ent.text -> 2, ent.label_ ->CARDINAL  \n",
       "4      ent.text -> united empire, ent.label_ ->ORG  \n",
       "...                                            ...  \n",
       "39995      ent.text -> 1pcs 028, ent.label_ ->DATE  \n",
       "39996        ent.text -> 15, ent.label_ ->CARDINAL  \n",
       "39997    ent.text -> halex beach, ent.label_ ->GPE  \n",
       "39998        ent.text -> 10, ent.label_ ->CARDINAL  \n",
       "39999       ent.text -> one, ent.label_ ->CARDINAL  \n",
       "\n",
       "[40000 rows x 3 columns]"
      ]
     },
     "execution_count": 15,
     "metadata": {},
     "output_type": "execute_result"
    }
   ],
   "source": [
    "required_entity_dataframe"
   ]
  },
  {
   "cell_type": "code",
   "execution_count": 16,
   "id": "d2ddd8f3",
   "metadata": {},
   "outputs": [],
   "source": [
    "required_entity_dataframe.to_csv(\"entities_from_all_text_40000.csv\")"
   ]
  },
  {
   "cell_type": "code",
   "execution_count": null,
   "id": "d4f8e7aa",
   "metadata": {},
   "outputs": [],
   "source": []
  }
 ],
 "metadata": {
  "kernelspec": {
   "display_name": "Python 3 (ipykernel)",
   "language": "python",
   "name": "python3"
  },
  "language_info": {
   "codemirror_mode": {
    "name": "ipython",
    "version": 3
   },
   "file_extension": ".py",
   "mimetype": "text/x-python",
   "name": "python",
   "nbconvert_exporter": "python",
   "pygments_lexer": "ipython3",
   "version": "3.10.9"
  }
 },
 "nbformat": 4,
 "nbformat_minor": 5
}
