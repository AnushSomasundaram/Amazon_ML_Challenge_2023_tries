{
 "cells": [
  {
   "cell_type": "code",
   "execution_count": 2,
   "id": "cdae1928",
   "metadata": {},
   "outputs": [],
   "source": [
    "import spacy"
   ]
  },
  {
   "cell_type": "code",
   "execution_count": null,
   "id": "c4b466e1",
   "metadata": {},
   "outputs": [],
   "source": []
  },
  {
   "cell_type": "code",
   "execution_count": 3,
   "id": "ba79f6a1",
   "metadata": {},
   "outputs": [
    {
     "data": {
      "text/plain": [
       "<spacy.lang.en.English at 0x10453d9c0>"
      ]
     },
     "execution_count": 3,
     "metadata": {},
     "output_type": "execute_result"
    }
   ],
   "source": [
    "nlp = spacy.load(\"en_core_web_lg\")\n",
    "nlp"
   ]
  },
  {
   "cell_type": "code",
   "execution_count": 4,
   "id": "975f858f",
   "metadata": {},
   "outputs": [],
   "source": [
    "doc = nlp(\"The box measures 10cm x 20cm x 30cm and weighs 2.5kg\")"
   ]
  },
  {
   "cell_type": "code",
   "execution_count": 5,
   "id": "1335ff6e",
   "metadata": {},
   "outputs": [
    {
     "data": {
      "text/plain": [
       "(10cm x, 20cm x, 30cm, 2.5kg)"
      ]
     },
     "execution_count": 5,
     "metadata": {},
     "output_type": "execute_result"
    }
   ],
   "source": [
    "doc.ents"
   ]
  },
  {
   "cell_type": "code",
   "execution_count": 6,
   "id": "ff76aada",
   "metadata": {},
   "outputs": [
    {
     "data": {
      "text/plain": [
       "(10cm x, spacy.tokens.span.Span)"
      ]
     },
     "execution_count": 6,
     "metadata": {},
     "output_type": "execute_result"
    }
   ],
   "source": [
    "doc.ents[0], type(doc.ents[0])"
   ]
  },
  {
   "cell_type": "code",
   "execution_count": 7,
   "id": "a74a5325",
   "metadata": {},
   "outputs": [
    {
     "data": {
      "text/html": [
       "<span class=\"tex2jax_ignore\"><div class=\"entities\" style=\"line-height: 2.5; direction: ltr\">The box measures \n",
       "<mark class=\"entity\" style=\"background: #e4e7d2; padding: 0.45em 0.6em; margin: 0 0.25em; line-height: 1; border-radius: 0.35em;\">\n",
       "    10cm x\n",
       "    <span style=\"font-size: 0.8em; font-weight: bold; line-height: 1; border-radius: 0.35em; vertical-align: middle; margin-left: 0.5rem\">QUANTITY</span>\n",
       "</mark>\n",
       " \n",
       "<mark class=\"entity\" style=\"background: #e4e7d2; padding: 0.45em 0.6em; margin: 0 0.25em; line-height: 1; border-radius: 0.35em;\">\n",
       "    20cm x\n",
       "    <span style=\"font-size: 0.8em; font-weight: bold; line-height: 1; border-radius: 0.35em; vertical-align: middle; margin-left: 0.5rem\">QUANTITY</span>\n",
       "</mark>\n",
       " \n",
       "<mark class=\"entity\" style=\"background: #e4e7d2; padding: 0.45em 0.6em; margin: 0 0.25em; line-height: 1; border-radius: 0.35em;\">\n",
       "    30cm\n",
       "    <span style=\"font-size: 0.8em; font-weight: bold; line-height: 1; border-radius: 0.35em; vertical-align: middle; margin-left: 0.5rem\">QUANTITY</span>\n",
       "</mark>\n",
       " and weighs \n",
       "<mark class=\"entity\" style=\"background: #e4e7d2; padding: 0.45em 0.6em; margin: 0 0.25em; line-height: 1; border-radius: 0.35em;\">\n",
       "    2.5kg\n",
       "    <span style=\"font-size: 0.8em; font-weight: bold; line-height: 1; border-radius: 0.35em; vertical-align: middle; margin-left: 0.5rem\">QUANTITY</span>\n",
       "</mark>\n",
       "</div></span>"
      ],
      "text/plain": [
       "<IPython.core.display.HTML object>"
      ]
     },
     "metadata": {},
     "output_type": "display_data"
    }
   ],
   "source": [
    "from spacy import displacy\n",
    "displacy.render(doc, style=\"ent\", jupyter=True)"
   ]
  },
  {
   "cell_type": "code",
   "execution_count": 9,
   "id": "d04e9881",
   "metadata": {},
   "outputs": [
    {
     "ename": "ValueError",
     "evalue": "[E002] Can't find factory for 'new' for language English (en). This usually happens when spaCy calls `nlp.create_pipe` with a custom component name that's not registered on the current language class. If you're using a Transformer, make sure to install 'spacy-transformers'. If you're using a custom component, make sure you've added the decorator `@Language.component` (for function components) or `@Language.factory` (for class components).\n\nAvailable factories: attribute_ruler, tok2vec, merge_noun_chunks, merge_entities, merge_subtokens, token_splitter, doc_cleaner, parser, beam_parser, lemmatizer, trainable_lemmatizer, entity_linker, ner, beam_ner, entity_ruler, tagger, morphologizer, senter, sentencizer, textcat, spancat, spancat_singlelabel, future_entity_ruler, span_ruler, textcat_multilabel, en.lemmatizer",
     "output_type": "error",
     "traceback": [
      "\u001b[0;31m---------------------------------------------------------------------------\u001b[0m",
      "\u001b[0;31mValueError\u001b[0m                                Traceback (most recent call last)",
      "Cell \u001b[0;32mIn[9], line 11\u001b[0m\n\u001b[1;32m      8\u001b[0m nlp \u001b[38;5;241m=\u001b[39m spacy\u001b[38;5;241m.\u001b[39mload(\u001b[38;5;124m\"\u001b[39m\u001b[38;5;124men_core_web_sm\u001b[39m\u001b[38;5;124m\"\u001b[39m, disable\u001b[38;5;241m=\u001b[39m[\u001b[38;5;124m\"\u001b[39m\u001b[38;5;124mner\u001b[39m\u001b[38;5;124m\"\u001b[39m])\n\u001b[1;32m     10\u001b[0m \u001b[38;5;66;03m# Create a blank NER model\u001b[39;00m\n\u001b[0;32m---> 11\u001b[0m ner \u001b[38;5;241m=\u001b[39m \u001b[43mnlp\u001b[49m\u001b[38;5;241;43m.\u001b[39;49m\u001b[43madd_pipe\u001b[49m\u001b[43m(\u001b[49m\u001b[38;5;124;43m\"\u001b[39;49m\u001b[38;5;124;43mnew\u001b[39;49m\u001b[38;5;124;43m\"\u001b[39;49m\u001b[43m)\u001b[49m\n\u001b[1;32m     13\u001b[0m \u001b[38;5;66;03m# Add the \"Measurement\" entity label to the NER model\u001b[39;00m\n\u001b[1;32m     14\u001b[0m ner\u001b[38;5;241m.\u001b[39madd_label(LABEL)\n",
      "File \u001b[0;32m~/anaconda3/lib/python3.10/site-packages/spacy/language.py:786\u001b[0m, in \u001b[0;36mLanguage.add_pipe\u001b[0;34m(self, factory_name, name, before, after, first, last, source, config, raw_config, validate)\u001b[0m\n\u001b[1;32m    782\u001b[0m     pipe_component, factory_name \u001b[38;5;241m=\u001b[39m \u001b[38;5;28mself\u001b[39m\u001b[38;5;241m.\u001b[39mcreate_pipe_from_source(\n\u001b[1;32m    783\u001b[0m         factory_name, source, name\u001b[38;5;241m=\u001b[39mname\n\u001b[1;32m    784\u001b[0m     )\n\u001b[1;32m    785\u001b[0m \u001b[38;5;28;01melse\u001b[39;00m:\n\u001b[0;32m--> 786\u001b[0m     pipe_component \u001b[38;5;241m=\u001b[39m \u001b[38;5;28;43mself\u001b[39;49m\u001b[38;5;241;43m.\u001b[39;49m\u001b[43mcreate_pipe\u001b[49m\u001b[43m(\u001b[49m\n\u001b[1;32m    787\u001b[0m \u001b[43m        \u001b[49m\u001b[43mfactory_name\u001b[49m\u001b[43m,\u001b[49m\n\u001b[1;32m    788\u001b[0m \u001b[43m        \u001b[49m\u001b[43mname\u001b[49m\u001b[38;5;241;43m=\u001b[39;49m\u001b[43mname\u001b[49m\u001b[43m,\u001b[49m\n\u001b[1;32m    789\u001b[0m \u001b[43m        \u001b[49m\u001b[43mconfig\u001b[49m\u001b[38;5;241;43m=\u001b[39;49m\u001b[43mconfig\u001b[49m\u001b[43m,\u001b[49m\n\u001b[1;32m    790\u001b[0m \u001b[43m        \u001b[49m\u001b[43mraw_config\u001b[49m\u001b[38;5;241;43m=\u001b[39;49m\u001b[43mraw_config\u001b[49m\u001b[43m,\u001b[49m\n\u001b[1;32m    791\u001b[0m \u001b[43m        \u001b[49m\u001b[43mvalidate\u001b[49m\u001b[38;5;241;43m=\u001b[39;49m\u001b[43mvalidate\u001b[49m\u001b[43m,\u001b[49m\n\u001b[1;32m    792\u001b[0m \u001b[43m    \u001b[49m\u001b[43m)\u001b[49m\n\u001b[1;32m    793\u001b[0m pipe_index \u001b[38;5;241m=\u001b[39m \u001b[38;5;28mself\u001b[39m\u001b[38;5;241m.\u001b[39m_get_pipe_index(before, after, first, last)\n\u001b[1;32m    794\u001b[0m \u001b[38;5;28mself\u001b[39m\u001b[38;5;241m.\u001b[39m_pipe_meta[name] \u001b[38;5;241m=\u001b[39m \u001b[38;5;28mself\u001b[39m\u001b[38;5;241m.\u001b[39mget_factory_meta(factory_name)\n",
      "File \u001b[0;32m~/anaconda3/lib/python3.10/site-packages/spacy/language.py:660\u001b[0m, in \u001b[0;36mLanguage.create_pipe\u001b[0;34m(self, factory_name, name, config, raw_config, validate)\u001b[0m\n\u001b[1;32m    652\u001b[0m \u001b[38;5;28;01mif\u001b[39;00m \u001b[38;5;129;01mnot\u001b[39;00m \u001b[38;5;28mself\u001b[39m\u001b[38;5;241m.\u001b[39mhas_factory(factory_name):\n\u001b[1;32m    653\u001b[0m     err \u001b[38;5;241m=\u001b[39m Errors\u001b[38;5;241m.\u001b[39mE002\u001b[38;5;241m.\u001b[39mformat(\n\u001b[1;32m    654\u001b[0m         name\u001b[38;5;241m=\u001b[39mfactory_name,\n\u001b[1;32m    655\u001b[0m         opts\u001b[38;5;241m=\u001b[39m\u001b[38;5;124m\"\u001b[39m\u001b[38;5;124m, \u001b[39m\u001b[38;5;124m\"\u001b[39m\u001b[38;5;241m.\u001b[39mjoin(\u001b[38;5;28mself\u001b[39m\u001b[38;5;241m.\u001b[39mfactory_names),\n\u001b[0;32m   (...)\u001b[0m\n\u001b[1;32m    658\u001b[0m         lang_code\u001b[38;5;241m=\u001b[39m\u001b[38;5;28mself\u001b[39m\u001b[38;5;241m.\u001b[39mlang,\n\u001b[1;32m    659\u001b[0m     )\n\u001b[0;32m--> 660\u001b[0m     \u001b[38;5;28;01mraise\u001b[39;00m \u001b[38;5;167;01mValueError\u001b[39;00m(err)\n\u001b[1;32m    661\u001b[0m pipe_meta \u001b[38;5;241m=\u001b[39m \u001b[38;5;28mself\u001b[39m\u001b[38;5;241m.\u001b[39mget_factory_meta(factory_name)\n\u001b[1;32m    662\u001b[0m \u001b[38;5;66;03m# This is unideal, but the alternative would mean you always need to\u001b[39;00m\n\u001b[1;32m    663\u001b[0m \u001b[38;5;66;03m# specify the full config settings, which is not really viable.\u001b[39;00m\n",
      "\u001b[0;31mValueError\u001b[0m: [E002] Can't find factory for 'new' for language English (en). This usually happens when spaCy calls `nlp.create_pipe` with a custom component name that's not registered on the current language class. If you're using a Transformer, make sure to install 'spacy-transformers'. If you're using a custom component, make sure you've added the decorator `@Language.component` (for function components) or `@Language.factory` (for class components).\n\nAvailable factories: attribute_ruler, tok2vec, merge_noun_chunks, merge_entities, merge_subtokens, token_splitter, doc_cleaner, parser, beam_parser, lemmatizer, trainable_lemmatizer, entity_linker, ner, beam_ner, entity_ruler, tagger, morphologizer, senter, sentencizer, textcat, spancat, spancat_singlelabel, future_entity_ruler, span_ruler, textcat_multilabel, en.lemmatizer"
     ]
    }
   ],
   "source": [
    "\n",
    "import random\n",
    "from spacy.training.example import Example\n",
    "\n",
    "# Define the new \"Measurement\" entity label\n",
    "LABEL = \"MEASUREMENT\"\n",
    "\n",
    "# Load the small English model\n",
    "nlp = spacy.load(\"en_core_web_sm\", disable=[\"ner\"])\n",
    "\n",
    "# Create a blank NER model\n",
    "ner = nlp.add_pipe(\"new\")\n",
    "\n",
    "# Add the \"Measurement\" entity label to the NER model\n",
    "ner.add_label(LABEL)\n",
    "\n",
    "# Define your annotated data\n",
    "TRAIN_DATA = [\n",
    "    (\"The box measures 10cm x 20cm x 30cm and weighs 2.5kg.\", {\"entities\": [(14, 17, \"LENGTH\"), (19, 22, \"LENGTH\"), (25, 28, \"LENGTH\"), (37, 41, \"WEIGHT\")]}),\n",
    "    (\"The dress size is 10 and the length from shoulder to hem is 100 cm.\", {\"entities\": [(18, 20, \"SIZE\"), (46, 48, \"LENGTH\"), (50, 52, \"LENGTH\")]}),\n",
    "    (\"The car has dimensions of 4.5 meters in length, 2 meters in width, and 1.8 meters in height.\", {\"entities\": [(26, 29, \"LENGTH\"), (48, 51, \"WIDTH\"), (73, 76, \"HEIGHT\")]}),\n",
    "    (\"The book has a length of 20 cm and a width of 15 cm.\", {\"entities\": [(23, 25, \"LENGTH\"), (39, 41, \"WIDTH\")]}),\n",
    "    (\"The fish tank measures 1 meter in length, 50 cm in width, and 60 cm in height.\", {\"entities\": [(27, 30, \"LENGTH\"), (47, 49, \"WIDTH\"), (69, 72, \"HEIGHT\")]}),\n",
    "    (\"The TV has a screen size of 55 inches.\", {\"entities\": [(24, 26, \"SIZE\")]}),\n",
    "    (\"The swimming pool is 10 meters long and 5 meters wide.\", {\"entities\": [(20, 23, \"LENGTH\"), (35, 38, \"WIDTH\")]}),\n",
    "    (\"The backpack has a height of 45 cm and a depth of 25 cm.\", {\"entities\": [(23, 25, \"HEIGHT\"), (41, 43, \"DEPTH\")]}),\n",
    "    (\"The room is 3 meters in length, 2.5 meters in width, and 2.7 meters in height.\", {\"entities\": [(16, 19, \"LENGTH\"), (35, 38, \"WIDTH\"), (60, 63, \"HEIGHT\")]}),\n",
    "    (\"The curtain is 2 meters long and 1 meter wide.\", {\"entities\": [(15, 18, \"LENGTH\"), (28, 30, \"WIDTH\")]}),\n",
    "    (\"The pizza has a diameter of 30 cm.\", {\"entities\": [(21, 23, \"SIZE\")]}),\n",
    "    (\"The rug is 2.5 meters long and 1.5 meters wide.\", {\"entities\": [(13, 16, \"LENGTH\"), (30, 33, \"WIDTH\")]}),\n",
    "    (\"The table has dimensions of 1.2 meters in length and 80 cm in width.\", {\"entities\": [(24, 27, \"LENGTH\"), (44, 46, \"WIDTH\")]}),\n",
    "    (\"The phone has a screen size of 6.5 inches.\", {\"entities\": [(24, 26, \"SIZE\")]}),\n",
    "    (\"The wall is 3 meters tall and 4 meters wide.\", {\"entities\": [(12, 15, \"HEIGHT\"), (25, 28, \"WIDTH\")]}),\n",
    "    (\"The door is 2 meters in height and 1 meter in width.\", {\"entities\": [(12, 15, \"HEIGHT\"), (30, 31, \"WIDTH\")]}),\n",
    "    (\"The rug measures 150 cm x 200 cm.\", {\"entities\": [(17, 20, \"LENGTH\"), (22, 25, \"WIDTH\")]}),\n",
    "    (\"The laptop has a screen size of 14 inches.\", {\"entities\": [(24, 26, \"SIZE\")]}),\n",
    "    (\"The painting has a width of 80 cm and a height of 100 cm.\", {\"entities\": [(21, 23, \"WIDTH\"), (39, 42, \"HEIGHT\")]}),\n",
    "    (\"The bed is 2 meters long and 1.5 meters wide.\", {\"entities\": [(9, 12, \"LENGTH\"), (28, 31, \"WIDTH\")]}),\n",
    "    (\"The rug measures 120 cm in diameter.\", {\"entities\": [(17, 19, \"SIZE\")]}),\n",
    "    (\"The car has a length of 4 meters and a width of 1.8 meters.\", {\"entities\": [(16, 19, \"LENGTH\"), (38, 41, \"WIDTH\")]}),\n",
    "    (\"The whiteboard is 1.5 meters in length and 1 meter in height.\", {\"entities\": [(19, 22, \"LENGTH\"), (40,\"WIDTH\")]})]\n",
    "\n",
    "# Train the NER model with your annotated data\n",
    "nlp.initialize()\n",
    "for iteration in range(100):\n",
    "    random.shuffle(TRAIN_DATA)\n",
    "    for raw_text, annotations in TRAIN_DATA:\n",
    "        example = Example.from_dict(nlp.make_doc(raw_text), annotations)\n",
    "        nlp.update([example], losses={})\n",
    "\n",
    "# Save the trained NER model\n",
    "nlp.to_disk(\"measurement_ner\")"
   ]
  },
  {
   "cell_type": "code",
   "execution_count": null,
   "id": "a01c8308",
   "metadata": {},
   "outputs": [],
   "source": []
  }
 ],
 "metadata": {
  "kernelspec": {
   "display_name": "Python 3 (ipykernel)",
   "language": "python",
   "name": "python3"
  },
  "language_info": {
   "codemirror_mode": {
    "name": "ipython",
    "version": 3
   },
   "file_extension": ".py",
   "mimetype": "text/x-python",
   "name": "python",
   "nbconvert_exporter": "python",
   "pygments_lexer": "ipython3",
   "version": "3.10.9"
  }
 },
 "nbformat": 4,
 "nbformat_minor": 5
}
