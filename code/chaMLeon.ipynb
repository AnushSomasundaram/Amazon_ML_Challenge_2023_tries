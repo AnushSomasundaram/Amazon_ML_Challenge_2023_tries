{
 "cells": [
  {
   "cell_type": "code",
   "execution_count": null,
   "id": "5T2tRTdrt4U-",
   "metadata": {
    "colab": {
     "base_uri": "https://localhost:8080/"
    },
    "id": "5T2tRTdrt4U-",
    "outputId": "206b1c56-1a6b-4867-cfa5-c72c166ffdb9"
   },
   "outputs": [],
   "source": [
    "!wget -O dataset.zip https://s3-ap-southeast-1.amazonaws.com/he-public-data/datasetb2d9982.zip"
   ]
  },
  {
   "cell_type": "code",
   "execution_count": null,
   "id": "Y4tcWGd0uRy4",
   "metadata": {
    "colab": {
     "base_uri": "https://localhost:8080/"
    },
    "id": "Y4tcWGd0uRy4",
    "outputId": "19cd2930-666e-4752-f0ac-f705b8ef2cd3"
   },
   "outputs": [],
   "source": [
    "!unzip dataset.zip"
   ]
  },
  {
   "cell_type": "markdown",
   "id": "63215428",
   "metadata": {
    "id": "63215428"
   },
   "source": [
    "### Importing Required Libraries"
   ]
  },
  {
   "cell_type": "code",
   "execution_count": null,
   "id": "RuMboYg9ug7N",
   "metadata": {
    "colab": {
     "base_uri": "https://localhost:8080/"
    },
    "id": "RuMboYg9ug7N",
    "outputId": "e6e70e4b-142c-472c-b18e-73592c2360a8"
   },
   "outputs": [],
   "source": [
    "!pip3 install datasets torch numpy pandas bs4 lxml nltk scikit-learn"
   ]
  },
  {
   "cell_type": "code",
   "execution_count": 1,
   "id": "bbc0ce4d",
   "metadata": {
    "colab": {
     "base_uri": "https://localhost:8080/"
    },
    "id": "bbc0ce4d",
    "outputId": "92cb86f3-0086-434b-c1a4-24c77a106b7d"
   },
   "outputs": [
    {
     "name": "stderr",
     "output_type": "stream",
     "text": [
      "/Users/software/anaconda3/lib/python3.10/site-packages/tqdm/auto.py:22: TqdmWarning: IProgress not found. Please update jupyter and ipywidgets. See https://ipywidgets.readthedocs.io/en/stable/user_install.html\n",
      "  from .autonotebook import tqdm as notebook_tqdm\n",
      "[nltk_data] Downloading collection 'all'\n",
      "[nltk_data]    | \n",
      "[nltk_data]    | Downloading package abc to\n",
      "[nltk_data]    |     /Users/software/nltk_data...\n",
      "[nltk_data]    |   Package abc is already up-to-date!\n",
      "[nltk_data]    | Downloading package alpino to\n",
      "[nltk_data]    |     /Users/software/nltk_data...\n",
      "[nltk_data]    |   Package alpino is already up-to-date!\n",
      "[nltk_data]    | Downloading package averaged_perceptron_tagger to\n",
      "[nltk_data]    |     /Users/software/nltk_data...\n",
      "[nltk_data]    |   Package averaged_perceptron_tagger is already up-\n",
      "[nltk_data]    |       to-date!\n",
      "[nltk_data]    | Downloading package averaged_perceptron_tagger_ru to\n",
      "[nltk_data]    |     /Users/software/nltk_data...\n",
      "[nltk_data]    |   Package averaged_perceptron_tagger_ru is already\n",
      "[nltk_data]    |       up-to-date!\n",
      "[nltk_data]    | Downloading package basque_grammars to\n",
      "[nltk_data]    |     /Users/software/nltk_data...\n",
      "[nltk_data]    |   Package basque_grammars is already up-to-date!\n",
      "[nltk_data]    | Downloading package bcp47 to\n",
      "[nltk_data]    |     /Users/software/nltk_data...\n",
      "[nltk_data]    |   Package bcp47 is already up-to-date!\n",
      "[nltk_data]    | Downloading package biocreative_ppi to\n",
      "[nltk_data]    |     /Users/software/nltk_data...\n",
      "[nltk_data]    |   Package biocreative_ppi is already up-to-date!\n",
      "[nltk_data]    | Downloading package bllip_wsj_no_aux to\n",
      "[nltk_data]    |     /Users/software/nltk_data...\n",
      "[nltk_data]    |   Package bllip_wsj_no_aux is already up-to-date!\n",
      "[nltk_data]    | Downloading package book_grammars to\n",
      "[nltk_data]    |     /Users/software/nltk_data...\n",
      "[nltk_data]    |   Package book_grammars is already up-to-date!\n",
      "[nltk_data]    | Downloading package brown to\n",
      "[nltk_data]    |     /Users/software/nltk_data...\n",
      "[nltk_data]    |   Package brown is already up-to-date!\n",
      "[nltk_data]    | Downloading package brown_tei to\n",
      "[nltk_data]    |     /Users/software/nltk_data...\n",
      "[nltk_data]    |   Package brown_tei is already up-to-date!\n",
      "[nltk_data]    | Downloading package cess_cat to\n",
      "[nltk_data]    |     /Users/software/nltk_data...\n",
      "[nltk_data]    |   Package cess_cat is already up-to-date!\n",
      "[nltk_data]    | Downloading package cess_esp to\n",
      "[nltk_data]    |     /Users/software/nltk_data...\n",
      "[nltk_data]    |   Package cess_esp is already up-to-date!\n",
      "[nltk_data]    | Downloading package chat80 to\n",
      "[nltk_data]    |     /Users/software/nltk_data...\n",
      "[nltk_data]    |   Package chat80 is already up-to-date!\n",
      "[nltk_data]    | Downloading package city_database to\n",
      "[nltk_data]    |     /Users/software/nltk_data...\n",
      "[nltk_data]    |   Package city_database is already up-to-date!\n",
      "[nltk_data]    | Downloading package cmudict to\n",
      "[nltk_data]    |     /Users/software/nltk_data...\n",
      "[nltk_data]    |   Package cmudict is already up-to-date!\n",
      "[nltk_data]    | Downloading package comparative_sentences to\n",
      "[nltk_data]    |     /Users/software/nltk_data...\n",
      "[nltk_data]    |   Package comparative_sentences is already up-to-\n",
      "[nltk_data]    |       date!\n",
      "[nltk_data]    | Downloading package comtrans to\n",
      "[nltk_data]    |     /Users/software/nltk_data...\n",
      "[nltk_data]    |   Package comtrans is already up-to-date!\n",
      "[nltk_data]    | Downloading package conll2000 to\n",
      "[nltk_data]    |     /Users/software/nltk_data...\n",
      "[nltk_data]    |   Package conll2000 is already up-to-date!\n",
      "[nltk_data]    | Downloading package conll2002 to\n",
      "[nltk_data]    |     /Users/software/nltk_data...\n",
      "[nltk_data]    |   Package conll2002 is already up-to-date!\n",
      "[nltk_data]    | Downloading package conll2007 to\n",
      "[nltk_data]    |     /Users/software/nltk_data...\n",
      "[nltk_data]    |   Package conll2007 is already up-to-date!\n",
      "[nltk_data]    | Downloading package crubadan to\n",
      "[nltk_data]    |     /Users/software/nltk_data...\n",
      "[nltk_data]    |   Package crubadan is already up-to-date!\n",
      "[nltk_data]    | Downloading package dependency_treebank to\n",
      "[nltk_data]    |     /Users/software/nltk_data...\n",
      "[nltk_data]    |   Package dependency_treebank is already up-to-date!\n",
      "[nltk_data]    | Downloading package dolch to\n",
      "[nltk_data]    |     /Users/software/nltk_data...\n",
      "[nltk_data]    |   Package dolch is already up-to-date!\n",
      "[nltk_data]    | Downloading package europarl_raw to\n",
      "[nltk_data]    |     /Users/software/nltk_data...\n",
      "[nltk_data]    |   Package europarl_raw is already up-to-date!\n",
      "[nltk_data]    | Downloading package extended_omw to\n",
      "[nltk_data]    |     /Users/software/nltk_data...\n",
      "[nltk_data]    |   Package extended_omw is already up-to-date!\n",
      "[nltk_data]    | Downloading package floresta to\n",
      "[nltk_data]    |     /Users/software/nltk_data...\n",
      "[nltk_data]    |   Package floresta is already up-to-date!\n",
      "[nltk_data]    | Downloading package framenet_v15 to\n",
      "[nltk_data]    |     /Users/software/nltk_data...\n",
      "[nltk_data]    |   Package framenet_v15 is already up-to-date!\n",
      "[nltk_data]    | Downloading package framenet_v17 to\n",
      "[nltk_data]    |     /Users/software/nltk_data...\n",
      "[nltk_data]    |   Package framenet_v17 is already up-to-date!\n",
      "[nltk_data]    | Downloading package gazetteers to\n",
      "[nltk_data]    |     /Users/software/nltk_data...\n",
      "[nltk_data]    |   Package gazetteers is already up-to-date!\n",
      "[nltk_data]    | Downloading package genesis to\n",
      "[nltk_data]    |     /Users/software/nltk_data...\n",
      "[nltk_data]    |   Package genesis is already up-to-date!\n",
      "[nltk_data]    | Downloading package gutenberg to\n",
      "[nltk_data]    |     /Users/software/nltk_data...\n",
      "[nltk_data]    |   Package gutenberg is already up-to-date!\n",
      "[nltk_data]    | Downloading package ieer to\n",
      "[nltk_data]    |     /Users/software/nltk_data...\n",
      "[nltk_data]    |   Package ieer is already up-to-date!\n",
      "[nltk_data]    | Downloading package inaugural to\n",
      "[nltk_data]    |     /Users/software/nltk_data...\n",
      "[nltk_data]    |   Package inaugural is already up-to-date!\n",
      "[nltk_data]    | Downloading package indian to\n",
      "[nltk_data]    |     /Users/software/nltk_data...\n",
      "[nltk_data]    |   Package indian is already up-to-date!\n",
      "[nltk_data]    | Downloading package jeita to\n",
      "[nltk_data]    |     /Users/software/nltk_data...\n",
      "[nltk_data]    |   Package jeita is already up-to-date!\n",
      "[nltk_data]    | Downloading package kimmo to\n",
      "[nltk_data]    |     /Users/software/nltk_data...\n",
      "[nltk_data]    |   Package kimmo is already up-to-date!\n",
      "[nltk_data]    | Downloading package knbc to\n",
      "[nltk_data]    |     /Users/software/nltk_data...\n",
      "[nltk_data]    |   Package knbc is already up-to-date!\n",
      "[nltk_data]    | Downloading package large_grammars to\n",
      "[nltk_data]    |     /Users/software/nltk_data...\n",
      "[nltk_data]    |   Package large_grammars is already up-to-date!\n",
      "[nltk_data]    | Downloading package lin_thesaurus to\n",
      "[nltk_data]    |     /Users/software/nltk_data...\n",
      "[nltk_data]    |   Package lin_thesaurus is already up-to-date!\n",
      "[nltk_data]    | Downloading package mac_morpho to\n",
      "[nltk_data]    |     /Users/software/nltk_data...\n",
      "[nltk_data]    |   Package mac_morpho is already up-to-date!\n",
      "[nltk_data]    | Downloading package machado to\n",
      "[nltk_data]    |     /Users/software/nltk_data...\n",
      "[nltk_data]    |   Package machado is already up-to-date!\n",
      "[nltk_data]    | Downloading package masc_tagged to\n",
      "[nltk_data]    |     /Users/software/nltk_data...\n",
      "[nltk_data]    |   Package masc_tagged is already up-to-date!\n",
      "[nltk_data]    | Downloading package maxent_ne_chunker to\n",
      "[nltk_data]    |     /Users/software/nltk_data...\n",
      "[nltk_data]    |   Package maxent_ne_chunker is already up-to-date!\n",
      "[nltk_data]    | Downloading package maxent_treebank_pos_tagger to\n",
      "[nltk_data]    |     /Users/software/nltk_data...\n",
      "[nltk_data]    |   Package maxent_treebank_pos_tagger is already up-\n",
      "[nltk_data]    |       to-date!\n",
      "[nltk_data]    | Downloading package moses_sample to\n",
      "[nltk_data]    |     /Users/software/nltk_data...\n",
      "[nltk_data]    |   Package moses_sample is already up-to-date!\n",
      "[nltk_data]    | Downloading package movie_reviews to\n",
      "[nltk_data]    |     /Users/software/nltk_data...\n",
      "[nltk_data]    |   Package movie_reviews is already up-to-date!\n",
      "[nltk_data]    | Downloading package mte_teip5 to\n",
      "[nltk_data]    |     /Users/software/nltk_data...\n",
      "[nltk_data]    |   Package mte_teip5 is already up-to-date!\n",
      "[nltk_data]    | Downloading package mwa_ppdb to\n",
      "[nltk_data]    |     /Users/software/nltk_data...\n",
      "[nltk_data]    |   Package mwa_ppdb is already up-to-date!\n",
      "[nltk_data]    | Downloading package names to\n",
      "[nltk_data]    |     /Users/software/nltk_data...\n",
      "[nltk_data]    |   Package names is already up-to-date!\n",
      "[nltk_data]    | Downloading package nombank.1.0 to\n",
      "[nltk_data]    |     /Users/software/nltk_data...\n"
     ]
    },
    {
     "name": "stderr",
     "output_type": "stream",
     "text": [
      "[nltk_data]    |   Package nombank.1.0 is already up-to-date!\n",
      "[nltk_data]    | Downloading package nonbreaking_prefixes to\n",
      "[nltk_data]    |     /Users/software/nltk_data...\n",
      "[nltk_data]    |   Package nonbreaking_prefixes is already up-to-date!\n",
      "[nltk_data]    | Downloading package nps_chat to\n",
      "[nltk_data]    |     /Users/software/nltk_data...\n",
      "[nltk_data]    |   Package nps_chat is already up-to-date!\n",
      "[nltk_data]    | Downloading package omw to\n",
      "[nltk_data]    |     /Users/software/nltk_data...\n",
      "[nltk_data]    |   Package omw is already up-to-date!\n",
      "[nltk_data]    | Downloading package omw-1.4 to\n",
      "[nltk_data]    |     /Users/software/nltk_data...\n",
      "[nltk_data]    |   Package omw-1.4 is already up-to-date!\n",
      "[nltk_data]    | Downloading package opinion_lexicon to\n",
      "[nltk_data]    |     /Users/software/nltk_data...\n",
      "[nltk_data]    |   Package opinion_lexicon is already up-to-date!\n",
      "[nltk_data]    | Downloading package panlex_swadesh to\n",
      "[nltk_data]    |     /Users/software/nltk_data...\n",
      "[nltk_data]    |   Package panlex_swadesh is already up-to-date!\n",
      "[nltk_data]    | Downloading package paradigms to\n",
      "[nltk_data]    |     /Users/software/nltk_data...\n",
      "[nltk_data]    |   Package paradigms is already up-to-date!\n",
      "[nltk_data]    | Downloading package pe08 to\n",
      "[nltk_data]    |     /Users/software/nltk_data...\n",
      "[nltk_data]    |   Package pe08 is already up-to-date!\n",
      "[nltk_data]    | Downloading package perluniprops to\n",
      "[nltk_data]    |     /Users/software/nltk_data...\n",
      "[nltk_data]    |   Package perluniprops is already up-to-date!\n",
      "[nltk_data]    | Downloading package pil to\n",
      "[nltk_data]    |     /Users/software/nltk_data...\n",
      "[nltk_data]    |   Package pil is already up-to-date!\n",
      "[nltk_data]    | Downloading package pl196x to\n",
      "[nltk_data]    |     /Users/software/nltk_data...\n",
      "[nltk_data]    |   Package pl196x is already up-to-date!\n",
      "[nltk_data]    | Downloading package porter_test to\n",
      "[nltk_data]    |     /Users/software/nltk_data...\n",
      "[nltk_data]    |   Package porter_test is already up-to-date!\n",
      "[nltk_data]    | Downloading package ppattach to\n",
      "[nltk_data]    |     /Users/software/nltk_data...\n",
      "[nltk_data]    |   Package ppattach is already up-to-date!\n",
      "[nltk_data]    | Downloading package problem_reports to\n",
      "[nltk_data]    |     /Users/software/nltk_data...\n",
      "[nltk_data]    |   Package problem_reports is already up-to-date!\n",
      "[nltk_data]    | Downloading package product_reviews_1 to\n",
      "[nltk_data]    |     /Users/software/nltk_data...\n",
      "[nltk_data]    |   Package product_reviews_1 is already up-to-date!\n",
      "[nltk_data]    | Downloading package product_reviews_2 to\n",
      "[nltk_data]    |     /Users/software/nltk_data...\n",
      "[nltk_data]    |   Package product_reviews_2 is already up-to-date!\n",
      "[nltk_data]    | Downloading package propbank to\n",
      "[nltk_data]    |     /Users/software/nltk_data...\n",
      "[nltk_data]    |   Package propbank is already up-to-date!\n",
      "[nltk_data]    | Downloading package pros_cons to\n",
      "[nltk_data]    |     /Users/software/nltk_data...\n",
      "[nltk_data]    |   Package pros_cons is already up-to-date!\n",
      "[nltk_data]    | Downloading package ptb to\n",
      "[nltk_data]    |     /Users/software/nltk_data...\n",
      "[nltk_data]    |   Package ptb is already up-to-date!\n",
      "[nltk_data]    | Downloading package punkt to\n",
      "[nltk_data]    |     /Users/software/nltk_data...\n",
      "[nltk_data]    |   Package punkt is already up-to-date!\n",
      "[nltk_data]    | Downloading package qc to\n",
      "[nltk_data]    |     /Users/software/nltk_data...\n",
      "[nltk_data]    |   Package qc is already up-to-date!\n",
      "[nltk_data]    | Downloading package reuters to\n",
      "[nltk_data]    |     /Users/software/nltk_data...\n",
      "[nltk_data]    |   Package reuters is already up-to-date!\n",
      "[nltk_data]    | Downloading package rslp to\n",
      "[nltk_data]    |     /Users/software/nltk_data...\n",
      "[nltk_data]    |   Package rslp is already up-to-date!\n",
      "[nltk_data]    | Downloading package rte to\n",
      "[nltk_data]    |     /Users/software/nltk_data...\n",
      "[nltk_data]    |   Package rte is already up-to-date!\n",
      "[nltk_data]    | Downloading package sample_grammars to\n",
      "[nltk_data]    |     /Users/software/nltk_data...\n",
      "[nltk_data]    |   Package sample_grammars is already up-to-date!\n",
      "[nltk_data]    | Downloading package semcor to\n",
      "[nltk_data]    |     /Users/software/nltk_data...\n",
      "[nltk_data]    |   Package semcor is already up-to-date!\n",
      "[nltk_data]    | Downloading package senseval to\n",
      "[nltk_data]    |     /Users/software/nltk_data...\n",
      "[nltk_data]    |   Package senseval is already up-to-date!\n",
      "[nltk_data]    | Downloading package sentence_polarity to\n",
      "[nltk_data]    |     /Users/software/nltk_data...\n",
      "[nltk_data]    |   Package sentence_polarity is already up-to-date!\n",
      "[nltk_data]    | Downloading package sentiwordnet to\n",
      "[nltk_data]    |     /Users/software/nltk_data...\n",
      "[nltk_data]    |   Package sentiwordnet is already up-to-date!\n",
      "[nltk_data]    | Downloading package shakespeare to\n",
      "[nltk_data]    |     /Users/software/nltk_data...\n",
      "[nltk_data]    |   Package shakespeare is already up-to-date!\n",
      "[nltk_data]    | Downloading package sinica_treebank to\n",
      "[nltk_data]    |     /Users/software/nltk_data...\n",
      "[nltk_data]    |   Package sinica_treebank is already up-to-date!\n",
      "[nltk_data]    | Downloading package smultron to\n",
      "[nltk_data]    |     /Users/software/nltk_data...\n",
      "[nltk_data]    |   Package smultron is already up-to-date!\n",
      "[nltk_data]    | Downloading package snowball_data to\n",
      "[nltk_data]    |     /Users/software/nltk_data...\n",
      "[nltk_data]    |   Package snowball_data is already up-to-date!\n",
      "[nltk_data]    | Downloading package spanish_grammars to\n",
      "[nltk_data]    |     /Users/software/nltk_data...\n",
      "[nltk_data]    |   Package spanish_grammars is already up-to-date!\n",
      "[nltk_data]    | Downloading package state_union to\n",
      "[nltk_data]    |     /Users/software/nltk_data...\n",
      "[nltk_data]    |   Package state_union is already up-to-date!\n",
      "[nltk_data]    | Downloading package stopwords to\n",
      "[nltk_data]    |     /Users/software/nltk_data...\n",
      "[nltk_data]    |   Package stopwords is already up-to-date!\n",
      "[nltk_data]    | Downloading package subjectivity to\n",
      "[nltk_data]    |     /Users/software/nltk_data...\n",
      "[nltk_data]    |   Package subjectivity is already up-to-date!\n",
      "[nltk_data]    | Downloading package swadesh to\n",
      "[nltk_data]    |     /Users/software/nltk_data...\n",
      "[nltk_data]    |   Package swadesh is already up-to-date!\n",
      "[nltk_data]    | Downloading package switchboard to\n",
      "[nltk_data]    |     /Users/software/nltk_data...\n",
      "[nltk_data]    |   Package switchboard is already up-to-date!\n",
      "[nltk_data]    | Downloading package tagsets to\n",
      "[nltk_data]    |     /Users/software/nltk_data...\n",
      "[nltk_data]    |   Package tagsets is already up-to-date!\n",
      "[nltk_data]    | Downloading package timit to\n",
      "[nltk_data]    |     /Users/software/nltk_data...\n",
      "[nltk_data]    |   Package timit is already up-to-date!\n",
      "[nltk_data]    | Downloading package toolbox to\n",
      "[nltk_data]    |     /Users/software/nltk_data...\n",
      "[nltk_data]    |   Package toolbox is already up-to-date!\n",
      "[nltk_data]    | Downloading package treebank to\n",
      "[nltk_data]    |     /Users/software/nltk_data...\n",
      "[nltk_data]    |   Package treebank is already up-to-date!\n",
      "[nltk_data]    | Downloading package twitter_samples to\n",
      "[nltk_data]    |     /Users/software/nltk_data...\n",
      "[nltk_data]    |   Package twitter_samples is already up-to-date!\n",
      "[nltk_data]    | Downloading package udhr to\n",
      "[nltk_data]    |     /Users/software/nltk_data...\n",
      "[nltk_data]    |   Package udhr is already up-to-date!\n",
      "[nltk_data]    | Downloading package udhr2 to\n",
      "[nltk_data]    |     /Users/software/nltk_data...\n",
      "[nltk_data]    |   Package udhr2 is already up-to-date!\n",
      "[nltk_data]    | Downloading package unicode_samples to\n",
      "[nltk_data]    |     /Users/software/nltk_data...\n",
      "[nltk_data]    |   Package unicode_samples is already up-to-date!\n",
      "[nltk_data]    | Downloading package universal_tagset to\n",
      "[nltk_data]    |     /Users/software/nltk_data...\n",
      "[nltk_data]    |   Package universal_tagset is already up-to-date!\n",
      "[nltk_data]    | Downloading package universal_treebanks_v20 to\n",
      "[nltk_data]    |     /Users/software/nltk_data...\n",
      "[nltk_data]    |   Package universal_treebanks_v20 is already up-to-\n",
      "[nltk_data]    |       date!\n",
      "[nltk_data]    | Downloading package vader_lexicon to\n",
      "[nltk_data]    |     /Users/software/nltk_data...\n",
      "[nltk_data]    |   Package vader_lexicon is already up-to-date!\n",
      "[nltk_data]    | Downloading package verbnet to\n",
      "[nltk_data]    |     /Users/software/nltk_data...\n",
      "[nltk_data]    |   Package verbnet is already up-to-date!\n",
      "[nltk_data]    | Downloading package verbnet3 to\n",
      "[nltk_data]    |     /Users/software/nltk_data...\n",
      "[nltk_data]    |   Package verbnet3 is already up-to-date!\n",
      "[nltk_data]    | Downloading package webtext to\n",
      "[nltk_data]    |     /Users/software/nltk_data...\n",
      "[nltk_data]    |   Package webtext is already up-to-date!\n",
      "[nltk_data]    | Downloading package wmt15_eval to\n",
      "[nltk_data]    |     /Users/software/nltk_data...\n",
      "[nltk_data]    |   Package wmt15_eval is already up-to-date!\n",
      "[nltk_data]    | Downloading package word2vec_sample to\n",
      "[nltk_data]    |     /Users/software/nltk_data...\n",
      "[nltk_data]    |   Package word2vec_sample is already up-to-date!\n",
      "[nltk_data]    | Downloading package wordnet to\n",
      "[nltk_data]    |     /Users/software/nltk_data...\n"
     ]
    },
    {
     "name": "stderr",
     "output_type": "stream",
     "text": [
      "[nltk_data]    |   Package wordnet is already up-to-date!\n",
      "[nltk_data]    | Downloading package wordnet2021 to\n",
      "[nltk_data]    |     /Users/software/nltk_data...\n",
      "[nltk_data]    |   Package wordnet2021 is already up-to-date!\n",
      "[nltk_data]    | Downloading package wordnet2022 to\n",
      "[nltk_data]    |     /Users/software/nltk_data...\n",
      "[nltk_data]    |   Package wordnet2022 is already up-to-date!\n",
      "[nltk_data]    | Downloading package wordnet31 to\n",
      "[nltk_data]    |     /Users/software/nltk_data...\n",
      "[nltk_data]    |   Package wordnet31 is already up-to-date!\n",
      "[nltk_data]    | Downloading package wordnet_ic to\n",
      "[nltk_data]    |     /Users/software/nltk_data...\n",
      "[nltk_data]    |   Package wordnet_ic is already up-to-date!\n",
      "[nltk_data]    | Downloading package words to\n",
      "[nltk_data]    |     /Users/software/nltk_data...\n",
      "[nltk_data]    |   Package words is already up-to-date!\n",
      "[nltk_data]    | Downloading package ycoe to\n",
      "[nltk_data]    |     /Users/software/nltk_data...\n",
      "[nltk_data]    |   Package ycoe is already up-to-date!\n",
      "[nltk_data]    | \n",
      "[nltk_data]  Done downloading collection all\n"
     ]
    }
   ],
   "source": [
    "import datasets\n",
    "import nltk\n",
    "import numpy as np\n",
    "import os\n",
    "import pandas as pd\n",
    "import re\n",
    "import torch\n",
    "import torch.nn as nn\n",
    "import torch.optim as optim\n",
    "\n",
    "from bs4 import BeautifulSoup\n",
    "from nltk.corpus import stopwords\n",
    "from sklearn.linear_model import LinearRegression\n",
    "\n",
    "_ = nltk.download('all')"
   ]
  },
  {
   "cell_type": "code",
   "execution_count": 2,
   "id": "5b389502",
   "metadata": {
    "id": "5b389502"
   },
   "outputs": [],
   "source": [
    "def group_by_product_id(df):\n",
    "    \"\"\"\n",
    "    Group a dataframe by PRODUCT_TYPE_ID and return a dictionary with PRODUCT_TYPE_ID as key and an\n",
    "    array of the dataframe with that product_id as value.\n",
    "    \n",
    "    Parameters:\n",
    "        df (pandas.DataFrame): the dataframe to group\n",
    "        \n",
    "    Returns:\n",
    "        dict: a dictionary with product_id as key and an array of the dataframe with that product_id as value\n",
    "    \"\"\"\n",
    "    result = {}\n",
    "    for product_id in df['PRODUCT_TYPE_ID'].unique():\n",
    "        result[product_id] = df[df['PRODUCT_TYPE_ID'] == product_id]\n",
    "    return result\n",
    "\n",
    "def clean_data(df):\n",
    "    # remove HTML tags from the text\n",
    "    # print('Removing HTML tags')\n",
    "    # df['TEXT'] = df['TEXT'].apply(lambda x: BeautifulSoup(x, 'lxml').get_text())\n",
    "\n",
    "    # remove any non-alphanumeric characters from the text\n",
    "    print('Removing non-alphanumeric characters')\n",
    "    df['TEXT'] = df['TEXT'].str.replace(r'[^a-zA-Z0-9\\*\\'\\\"\\s]', '')\n",
    "\n",
    "    # convert all text to lowercase\n",
    "    print('Lowercasing dataset')\n",
    "    df['TEXT'] = df['TEXT'].str.lower()\n",
    "\n",
    "    # tokenize the text\n",
    "    print('Tokenizing dataset based on spaces')\n",
    "    df['TEXT'] = df['TEXT'].str.split()\n",
    "\n",
    "    # remove stop words using NLTK\n",
    "    print('Removing stop words')\n",
    "    stop_words = set(stopwords.words('english'))\n",
    "    df['TEXT'] = df['TEXT'].apply(lambda x: [word for word in x if word not in stop_words])\n",
    "\n",
    "    # join the tokens back into a single string\n",
    "    print('Joining back tokens into single string')\n",
    "    df['TEXT'] = df['TEXT'].str.join(' ')\n",
    "\n",
    "    return df\n",
    "\n",
    "def preprocess(df):\n",
    "    df = df.fillna(\"\")\n",
    "    df[\"BULLET_POINTS\"] = df[\"BULLET_POINTS\"].apply(lambda x: \" \".join(str(x).strip()[1 : -1].split(\",\")))\n",
    "    df[\"TEXT\"] = df[\"TITLE\"] + \" \" + df[\"BULLET_POINTS\"] + \" \" + df[\"DESCRIPTION\"]\n",
    "    df = clean_data(df)\n",
    "    return df"
   ]
  },
  {
   "cell_type": "code",
   "execution_count": 3,
   "id": "b3eeda2f",
   "metadata": {
    "id": "b3eeda2f"
   },
   "outputs": [],
   "source": [
    "DATASET_FOLDER = \"./dataset\"\n",
    "train_file = os.path.join(DATASET_FOLDER, \"train.csv\")\n",
    "test_file = os.path.join(DATASET_FOLDER, \"test.csv\")"
   ]
  },
  {
   "cell_type": "code",
   "execution_count": 4,
   "id": "28Ki97gmztKL",
   "metadata": {
    "id": "28Ki97gmztKL"
   },
   "outputs": [],
   "source": [
    "train_df = pd.read_csv(train_file)\n",
    "test_df = pd.read_csv(test_file)"
   ]
  },
  {
   "cell_type": "code",
   "execution_count": 5,
   "id": "9786c427",
   "metadata": {
    "id": "9786c427"
   },
   "outputs": [
    {
     "name": "stdout",
     "output_type": "stream",
     "text": [
      "Removing non-alphanumeric characters\n"
     ]
    },
    {
     "name": "stderr",
     "output_type": "stream",
     "text": [
      "/var/folders/ck/gs22xnt513x04n1m13hg3w6h0000gr/T/ipykernel_33606/1209565415.py:24: FutureWarning: The default value of regex will change from True to False in a future version.\n",
      "  df['TEXT'] = df['TEXT'].str.replace(r'[^a-zA-Z0-9\\*\\'\\\"\\s]', '')\n"
     ]
    },
    {
     "name": "stdout",
     "output_type": "stream",
     "text": [
      "Lowercasing dataset\n",
      "Tokenizing dataset based on spaces\n",
      "Removing stop words\n",
      "Joining back tokens into single string\n",
      "Removing non-alphanumeric characters\n"
     ]
    },
    {
     "name": "stderr",
     "output_type": "stream",
     "text": [
      "/var/folders/ck/gs22xnt513x04n1m13hg3w6h0000gr/T/ipykernel_33606/1209565415.py:24: FutureWarning: The default value of regex will change from True to False in a future version.\n",
      "  df['TEXT'] = df['TEXT'].str.replace(r'[^a-zA-Z0-9\\*\\'\\\"\\s]', '')\n"
     ]
    },
    {
     "name": "stdout",
     "output_type": "stream",
     "text": [
      "Lowercasing dataset\n",
      "Tokenizing dataset based on spaces\n",
      "Removing stop words\n",
      "Joining back tokens into single string\n"
     ]
    }
   ],
   "source": [
    "train_df = preprocess(train_df)\n",
    "test_df = preprocess(test_df)"
   ]
  },
  {
   "cell_type": "code",
   "execution_count": 7,
   "id": "CsyVPbrlzobI",
   "metadata": {
    "id": "CsyVPbrlzobI"
   },
   "outputs": [],
   "source": [
    "chunk_size = 100000\n",
    "\n",
    "def batch_process(filename):\n",
    "    dataset_filename = os.path.join(DATASET_FOLDER, filename)\n",
    "    header = pd.read_csv(dataset_filename, nrows = 0)\n",
    "\n",
    "    with open(f'cleaned_{filename}', 'w', newline = '') as file:\n",
    "        header.to_csv(file, index = False)\n",
    "        index = 0\n",
    "\n",
    "        for chunk in pd.read_csv(dataset_filename, chunksize = chunk_size):\n",
    "            print(f'Processing {filename} Chunk {index}')\n",
    "            index += 1\n",
    "            preprocess(chunk).to_csv(file, header = False, index = False)"
   ]
  },
  {
   "cell_type": "code",
   "execution_count": null,
   "id": "2TMPkLDa0eyE",
   "metadata": {
    "colab": {
     "base_uri": "https://localhost:8080/"
    },
    "id": "2TMPkLDa0eyE",
    "outputId": "44397e23-3bd3-4642-8ab6-9b459fa9a470",
    "scrolled": true
   },
   "outputs": [],
   "source": [
    "batch_process(\"train.csv\")\n",
    "batch_process(\"test.csv\")"
   ]
  },
  {
   "cell_type": "code",
   "execution_count": null,
   "id": "eRNVjuGC3XKf",
   "metadata": {
    "colab": {
     "base_uri": "https://localhost:8080/"
    },
    "id": "eRNVjuGC3XKf",
    "outputId": "c8e127b9-13f6-4d9c-9c6b-af229656b42c"
   },
   "outputs": [],
   "source": [
    "!zip -r -9 cleaned *.csv"
   ]
  },
  {
   "cell_type": "code",
   "execution_count": null,
   "id": "dz_CWw7m70LH",
   "metadata": {
    "colab": {
     "base_uri": "https://localhost:8080/"
    },
    "id": "dz_CWw7m70LH",
    "outputId": "2747ebed-e807-417e-9901-0063ca805edc"
   },
   "outputs": [],
   "source": [
    "from google.colab import drive\n",
    "drive.mount('/content/drive')"
   ]
  },
  {
   "cell_type": "code",
   "execution_count": null,
   "id": "HMZw9AOJ77aa",
   "metadata": {
    "id": "HMZw9AOJ77aa"
   },
   "outputs": [],
   "source": [
    "!cp cleaned.zip /content/drive/MyDrive"
   ]
  },
  {
   "cell_type": "code",
   "execution_count": 6,
   "id": "8a5d6adf",
   "metadata": {
    "id": "8a5d6adf",
    "outputId": "8ea186d8-be58-4ab2-9169-0ab06dcd812b"
   },
   "outputs": [
    {
     "data": {
      "text/html": [
       "<div>\n",
       "<style scoped>\n",
       "    .dataframe tbody tr th:only-of-type {\n",
       "        vertical-align: middle;\n",
       "    }\n",
       "\n",
       "    .dataframe tbody tr th {\n",
       "        vertical-align: top;\n",
       "    }\n",
       "\n",
       "    .dataframe thead th {\n",
       "        text-align: right;\n",
       "    }\n",
       "</style>\n",
       "<table border=\"1\" class=\"dataframe\">\n",
       "  <thead>\n",
       "    <tr style=\"text-align: right;\">\n",
       "      <th></th>\n",
       "      <th>PRODUCT_ID</th>\n",
       "      <th>TITLE</th>\n",
       "      <th>BULLET_POINTS</th>\n",
       "      <th>DESCRIPTION</th>\n",
       "      <th>PRODUCT_TYPE_ID</th>\n",
       "      <th>PRODUCT_LENGTH</th>\n",
       "      <th>TEXT</th>\n",
       "    </tr>\n",
       "  </thead>\n",
       "  <tbody>\n",
       "    <tr>\n",
       "      <th>0</th>\n",
       "      <td>1925202</td>\n",
       "      <td>ArtzFolio Tulip Flowers Blackout Curtain for D...</td>\n",
       "      <td>LUXURIOUS &amp; APPEALING: Beautiful custom-made c...</td>\n",
       "      <td></td>\n",
       "      <td>1650</td>\n",
       "      <td>2125.980000</td>\n",
       "      <td>artzfolio tulip flowers blackout curtain door ...</td>\n",
       "    </tr>\n",
       "    <tr>\n",
       "      <th>1</th>\n",
       "      <td>2673191</td>\n",
       "      <td>Marks &amp; Spencer Girls' Pyjama Sets T86_2561C_N...</td>\n",
       "      <td>Harry Potter Hedwig Pyjamas (6-16 Yrs) 100% co...</td>\n",
       "      <td></td>\n",
       "      <td>2755</td>\n",
       "      <td>393.700000</td>\n",
       "      <td>marks spencer girls' pyjama sets t862561cnavy ...</td>\n",
       "    </tr>\n",
       "    <tr>\n",
       "      <th>2</th>\n",
       "      <td>2765088</td>\n",
       "      <td>PRIKNIK Horn Red Electric Air Horn Compressor ...</td>\n",
       "      <td>Loud Dual Tone Trumpet Horn  Compatible With S...</td>\n",
       "      <td>Specifications: Color: Red, Material: Aluminiu...</td>\n",
       "      <td>7537</td>\n",
       "      <td>748.031495</td>\n",
       "      <td>priknik horn red electric air horn compressor ...</td>\n",
       "    </tr>\n",
       "    <tr>\n",
       "      <th>3</th>\n",
       "      <td>1594019</td>\n",
       "      <td>ALISHAH Women's Cotton Ankle Length Leggings C...</td>\n",
       "      <td>Made By 95%cotton and 5% Lycra which gives you...</td>\n",
       "      <td>AISHAH Women's Lycra Cotton Ankel Leggings. Br...</td>\n",
       "      <td>2996</td>\n",
       "      <td>787.401574</td>\n",
       "      <td>alishah women's cotton ankle length leggings c...</td>\n",
       "    </tr>\n",
       "    <tr>\n",
       "      <th>4</th>\n",
       "      <td>283658</td>\n",
       "      <td>The United Empire Loyalists: A Chronicle of th...</td>\n",
       "      <td></td>\n",
       "      <td></td>\n",
       "      <td>6112</td>\n",
       "      <td>598.424000</td>\n",
       "      <td>united empire loyalists chronicle great migration</td>\n",
       "    </tr>\n",
       "    <tr>\n",
       "      <th>...</th>\n",
       "      <td>...</td>\n",
       "      <td>...</td>\n",
       "      <td>...</td>\n",
       "      <td>...</td>\n",
       "      <td>...</td>\n",
       "      <td>...</td>\n",
       "      <td>...</td>\n",
       "    </tr>\n",
       "    <tr>\n",
       "      <th>2249693</th>\n",
       "      <td>2422167</td>\n",
       "      <td>Nike Women's As W Ny Df Swsh Hn Kh Bra (CZ7610...</td>\n",
       "      <td>aterial : Polyeste</td>\n",
       "      <td></td>\n",
       "      <td>3009</td>\n",
       "      <td>1181.100000</td>\n",
       "      <td>nike women's w ny df swsh hn kh bra cz7610010b...</td>\n",
       "    </tr>\n",
       "    <tr>\n",
       "      <th>2249694</th>\n",
       "      <td>2766635</td>\n",
       "      <td>(3PCS) Goose Game Cute Cartoon Enamel Pins, Fu...</td>\n",
       "      <td>❤ [Inspiration] Inspired by the Untitled Goose...</td>\n",
       "      <td>&lt;p&gt;&lt;b&gt;[Brand]: &lt;/b&gt;XVIEONR&lt;/p&gt; &lt;p&gt;&lt;br&gt;&lt;/p&gt; &lt;p&gt;...</td>\n",
       "      <td>3413</td>\n",
       "      <td>125.984252</td>\n",
       "      <td>3pcs goose game cute cartoon enamel pins funny...</td>\n",
       "    </tr>\n",
       "    <tr>\n",
       "      <th>2249695</th>\n",
       "      <td>1987786</td>\n",
       "      <td>Kangroo Sweep Movement Printed Wooden Wall Clo...</td>\n",
       "      <td>Dial size: 12 inches in diameter Big  clear re...</td>\n",
       "      <td>Wall Clocks Are Very Attractive In Looks And E...</td>\n",
       "      <td>1574</td>\n",
       "      <td>1200.000000</td>\n",
       "      <td>kangroo sweep movement printed wooden wall clo...</td>\n",
       "    </tr>\n",
       "    <tr>\n",
       "      <th>2249696</th>\n",
       "      <td>1165754</td>\n",
       "      <td>Electro Voice EKX-BRKT15 | Wall Mount Bracket ...</td>\n",
       "      <td></td>\n",
       "      <td></td>\n",
       "      <td>592</td>\n",
       "      <td>2900.000000</td>\n",
       "      <td>electro voice ekxbrkt15 wall mount bracket ekx...</td>\n",
       "    </tr>\n",
       "    <tr>\n",
       "      <th>2249697</th>\n",
       "      <td>1072666</td>\n",
       "      <td>Skyjacker C7360SP Component Box For PN[C7360PK...</td>\n",
       "      <td>Component Box For PN[C7360PK] 4 in. Lift Incl....</td>\n",
       "      <td>Skyjacker C7360SP Component Box For PN[C7360PK...</td>\n",
       "      <td>7367</td>\n",
       "      <td>2000.000000</td>\n",
       "      <td>skyjacker c7360sp component box pnc7360pk 4 li...</td>\n",
       "    </tr>\n",
       "  </tbody>\n",
       "</table>\n",
       "<p>2249698 rows × 7 columns</p>\n",
       "</div>"
      ],
      "text/plain": [
       "         PRODUCT_ID                                              TITLE  \\\n",
       "0           1925202  ArtzFolio Tulip Flowers Blackout Curtain for D...   \n",
       "1           2673191  Marks & Spencer Girls' Pyjama Sets T86_2561C_N...   \n",
       "2           2765088  PRIKNIK Horn Red Electric Air Horn Compressor ...   \n",
       "3           1594019  ALISHAH Women's Cotton Ankle Length Leggings C...   \n",
       "4            283658  The United Empire Loyalists: A Chronicle of th...   \n",
       "...             ...                                                ...   \n",
       "2249693     2422167  Nike Women's As W Ny Df Swsh Hn Kh Bra (CZ7610...   \n",
       "2249694     2766635  (3PCS) Goose Game Cute Cartoon Enamel Pins, Fu...   \n",
       "2249695     1987786  Kangroo Sweep Movement Printed Wooden Wall Clo...   \n",
       "2249696     1165754  Electro Voice EKX-BRKT15 | Wall Mount Bracket ...   \n",
       "2249697     1072666  Skyjacker C7360SP Component Box For PN[C7360PK...   \n",
       "\n",
       "                                             BULLET_POINTS  \\\n",
       "0        LUXURIOUS & APPEALING: Beautiful custom-made c...   \n",
       "1        Harry Potter Hedwig Pyjamas (6-16 Yrs) 100% co...   \n",
       "2        Loud Dual Tone Trumpet Horn  Compatible With S...   \n",
       "3        Made By 95%cotton and 5% Lycra which gives you...   \n",
       "4                                                            \n",
       "...                                                    ...   \n",
       "2249693                                 aterial : Polyeste   \n",
       "2249694  ❤ [Inspiration] Inspired by the Untitled Goose...   \n",
       "2249695  Dial size: 12 inches in diameter Big  clear re...   \n",
       "2249696                                                      \n",
       "2249697  Component Box For PN[C7360PK] 4 in. Lift Incl....   \n",
       "\n",
       "                                               DESCRIPTION  PRODUCT_TYPE_ID  \\\n",
       "0                                                                      1650   \n",
       "1                                                                      2755   \n",
       "2        Specifications: Color: Red, Material: Aluminiu...             7537   \n",
       "3        AISHAH Women's Lycra Cotton Ankel Leggings. Br...             2996   \n",
       "4                                                                      6112   \n",
       "...                                                    ...              ...   \n",
       "2249693                                                                3009   \n",
       "2249694  <p><b>[Brand]: </b>XVIEONR</p> <p><br></p> <p>...             3413   \n",
       "2249695  Wall Clocks Are Very Attractive In Looks And E...             1574   \n",
       "2249696                                                                 592   \n",
       "2249697  Skyjacker C7360SP Component Box For PN[C7360PK...             7367   \n",
       "\n",
       "         PRODUCT_LENGTH                                               TEXT  \n",
       "0           2125.980000  artzfolio tulip flowers blackout curtain door ...  \n",
       "1            393.700000  marks spencer girls' pyjama sets t862561cnavy ...  \n",
       "2            748.031495  priknik horn red electric air horn compressor ...  \n",
       "3            787.401574  alishah women's cotton ankle length leggings c...  \n",
       "4            598.424000  united empire loyalists chronicle great migration  \n",
       "...                 ...                                                ...  \n",
       "2249693     1181.100000  nike women's w ny df swsh hn kh bra cz7610010b...  \n",
       "2249694      125.984252  3pcs goose game cute cartoon enamel pins funny...  \n",
       "2249695     1200.000000  kangroo sweep movement printed wooden wall clo...  \n",
       "2249696     2900.000000  electro voice ekxbrkt15 wall mount bracket ekx...  \n",
       "2249697     2000.000000  skyjacker c7360sp component box pnc7360pk 4 li...  \n",
       "\n",
       "[2249698 rows x 7 columns]"
      ]
     },
     "execution_count": 6,
     "metadata": {},
     "output_type": "execute_result"
    }
   ],
   "source": [
    "train_df"
   ]
  },
  {
   "cell_type": "code",
   "execution_count": 11,
   "id": "2608ac04",
   "metadata": {},
   "outputs": [],
   "source": [
    "train_df.to_csv(\"cleaned_train.csv\")\n",
    "test_df.to_csv(\"cleaned_test.csv\")"
   ]
  },
  {
   "cell_type": "code",
   "execution_count": 9,
   "id": "ba53a57a",
   "metadata": {},
   "outputs": [
    {
     "name": "stdout",
     "output_type": "stream",
     "text": [
      "True\n"
     ]
    }
   ],
   "source": [
    "import spacy\n",
    "activated = spacy.require_gpu()\n",
    "nlp = spacy.load(\"en_core_web_sm\")\n",
    "\n",
    "print(activated)"
   ]
  },
  {
   "cell_type": "markdown",
   "id": "a0bb59ac",
   "metadata": {},
   "source": [
    "\n",
    "def get_ents(doc):\n",
    "    if doc.ents:\n",
    "        for ent in doc.ents:\n",
    "            #return(f\"ent.text -> {ent.text}, ent.start-> {ent.start}, ent.end -> {ent.end}, ent.start_char-> {ent.start_char}, ent.end_char ->{ent.end_char}, ent.label_ ->{ent.label_}\")\n",
    "            return(f\"ent.text -> {ent.text}, ent.label_ ->{ent.label_}\")\n",
    "    else:\n",
    "        return(\"No entities found\")\n",
    "\n",
    "\n",
    "title_list = train_df[\"TITLE\"][:40000].to_list()\n",
    "text_list = train_df[\"TEXT\"][:40000].to_list()\n",
    "\n",
    "ents = []\n",
    "\n",
    "for element in text_list :\n",
    "    \n",
    "    doc = nlp(element)\n",
    "    ents.append(str(get_ents(doc)))\n",
    "    \n",
    "required_entity_dataframe = pd.DataFrame(dict(title_list,ents))\n"
   ]
  },
  {
   "cell_type": "code",
   "execution_count": null,
   "id": "72726572",
   "metadata": {},
   "outputs": [],
   "source": []
  },
  {
   "cell_type": "code",
   "execution_count": null,
   "id": "4f9e23e8",
   "metadata": {
    "id": "4f9e23e8",
    "outputId": "5c03a386-0932-41c6-b096-1b31d01ef7e5"
   },
   "outputs": [],
   "source": [
    "a = set(test_df[\"PRODUCT_TYPE_ID\"].unique())\n",
    "b = set(train_df[\"PRODUCT_TYPE_ID\"].unique())\n",
    "for i in a:\n",
    "    if i not in b:\n",
    "        print(test_df[test_df[\"PRODUCT_TYPE_ID\"] == i])"
   ]
  },
  {
   "cell_type": "code",
   "execution_count": null,
   "id": "058872b7",
   "metadata": {
    "id": "058872b7",
    "outputId": "67638ced-4731-40b8-e9d7-7bb17c5896bb"
   },
   "outputs": [],
   "source": [
    "dimension_pattern = r'\\b(\\d+(\\.\\d+)?)(\\s?[xX]\\s?)(\\d+(\\.\\d+)?)(\\s?[xX]\\s?)(\\d+(\\.\\d+)?)(\\s?\\b(cm|mm|inches|inch)\\b)'\n",
    "dimension_pattern = f'\\\\b(\\\\d+(\\\\.\\\\d+)?)(\\\\s*[xX*]\\\\s*)(\\\\d+(\\\\.\\\\d+)?)(\\\\s*(?:[xX*]\\\\s*\\\\d+(\\\\.\\\\d+)?\\\\s*(?:\\\\b(cm|mm|in(ch(es)?)?)\\\\b)?)?)?'\n",
    "df = test_df[test_df['BULLET_POINTS'].str.contains(dimension_pattern, regex = True)]"
   ]
  },
  {
   "cell_type": "code",
   "execution_count": null,
   "id": "a65f44cc",
   "metadata": {
    "id": "a65f44cc"
   },
   "outputs": [],
   "source": [
    "matches = df['BULLET_POINTS'].str.extract(dimension_pattern)"
   ]
  },
  {
   "cell_type": "code",
   "execution_count": null,
   "id": "9547275c",
   "metadata": {
    "id": "9547275c",
    "outputId": "b97d6097-8b87-4263-b525-a84c73ca3624"
   },
   "outputs": [],
   "source": [
    "matches"
   ]
  },
  {
   "cell_type": "code",
   "execution_count": null,
   "id": "497c9c5b",
   "metadata": {
    "id": "497c9c5b",
    "outputId": "9ad23523-9079-4afc-c3dd-bc68df9e1c41"
   },
   "outputs": [],
   "source": [
    "df = df.join(matches)\n",
    "df"
   ]
  },
  {
   "cell_type": "code",
   "execution_count": null,
   "id": "494eeac4",
   "metadata": {
    "id": "494eeac4"
   },
   "outputs": [],
   "source": [
    "df[8] = df[8].fillna('in')\n",
    "df.loc[df[8].str.contains('in'), 0] = df.loc[df[8].str.contains('in'), 0].apply(lambda x: float(x) * 100)\n",
    "df.loc[df[8].str.contains('cm'), 0] = df.loc[df[8].str.contains('cm'), 0].apply(lambda x: float(x) / 2.54 * 100)\n",
    "df.loc[df[8].str.contains('mm'), 0] = df.loc[df[8].str.contains('mm'), 0].apply(lambda x: float(x) / 25.4 * 100)"
   ]
  },
  {
   "cell_type": "code",
   "execution_count": null,
   "id": "46a9ad48",
   "metadata": {
    "id": "46a9ad48",
    "outputId": "821659b5-3e9b-4091-aa01-68675db1cc10"
   },
   "outputs": [],
   "source": [
    "df"
   ]
  },
  {
   "cell_type": "code",
   "execution_count": null,
   "id": "29273f0a",
   "metadata": {
    "id": "29273f0a"
   },
   "outputs": [],
   "source": [
    "groups = group_by_product_id(train_df)\n",
    "groups = list(groups.items())\n",
    "groups.sort(key = lambda x: len(x[1]), reverse = True)\n",
    "type_to_mean = {}\n",
    "for key, value in groups:\n",
    "    type_to_mean[str(key)] = value[\"PRODUCT_LENGTH\"].median()\n",
    "answer = {}\n",
    "for i in range(len(test_df)):\n",
    "    data = test_df.iloc[i]\n",
    "    pid = data[\"PRODUCT_ID\"]\n",
    "    key = str(data[\"PRODUCT_TYPE_ID\"])\n",
    "    value = 1\n",
    "    if key in type_to_mean.keys():\n",
    "        value = type_to_mean[key]\n",
    "    answer[pid] = value"
   ]
  },
  {
   "cell_type": "code",
   "execution_count": null,
   "id": "e66dff81",
   "metadata": {
    "id": "e66dff81"
   },
   "outputs": [],
   "source": [
    "answer_df = pd.DataFrame(answer.items(), columns = [\"PRODUCT_ID\", \"PRODUCT_LENGTH\"])"
   ]
  },
  {
   "cell_type": "code",
   "execution_count": null,
   "id": "ea49d499",
   "metadata": {
    "id": "ea49d499"
   },
   "outputs": [],
   "source": [
    "# Merge df1 and df2 on the \"PRODUCT_ID\" column\n",
    "merged_df = pd.merge(answer_df[[\"PRODUCT_ID\", \"PRODUCT_LENGTH\"]], df[[\"PRODUCT_ID\", 0]], on=\"PRODUCT_ID\", how=\"left\")\n",
    "\n",
    "# Replace missing values in \"PRODUCT_LENGTH_x\" with the corresponding values from \"PRODUCT_LENGTH_y\"\n",
    "merged_df[0].fillna(merged_df[\"PRODUCT_LENGTH\"], inplace=True)\n",
    "\n",
    "# Drop the \"PRODUCT_LENGTH_y\" column\n",
    "merged_df.drop(columns=[\"PRODUCT_LENGTH\"], inplace=True)\n",
    "\n",
    "# Rename the \"PRODUCT_LENGTH_x\" column to \"PRODUCT_LENGTH\"\n",
    "merged_df.rename(columns={0: \"PRODUCT_LENGTH\"}, inplace=True)\n",
    "\n",
    "# Update the \"PRODUCT_LENGTH\" column in df1 with the values from the merged dataframe\n",
    "answer_df[\"PRODUCT_LENGTH\"] = merged_df[\"PRODUCT_LENGTH\"]"
   ]
  },
  {
   "cell_type": "code",
   "execution_count": null,
   "id": "083c38f6",
   "metadata": {
    "id": "083c38f6",
    "outputId": "06f61cea-aecc-4d92-dd78-d30119e5ad5b"
   },
   "outputs": [],
   "source": [
    "answer_df"
   ]
  },
  {
   "cell_type": "code",
   "execution_count": null,
   "id": "17e88037",
   "metadata": {
    "id": "17e88037"
   },
   "outputs": [],
   "source": [
    "sample_df = pd.read_csv(\"sample_submission.csv\")\n",
    "real_answer = {}\n",
    "factor = 0.95\n",
    "\n",
    "for i in range(len(answer_df)):\n",
    "    from_sample = sample_df.iloc[i]\n",
    "    from_ours = answer_df.iloc[i]\n",
    "    v1 = from_sample[\"PRODUCT_LENGTH\"]\n",
    "    v2 = float(from_ours[\"PRODUCT_LENGTH\"])\n",
    "    pid = int(from_sample[\"PRODUCT_ID\"])\n",
    "    if v2 >= v1 + factor * v1 or v2 <= v1 - factor * v1:\n",
    "        real_answer[pid] = v1\n",
    "    else:\n",
    "        real_answer[pid] = v2\n",
    "\n",
    "real_answer_df = pd.DataFrame(real_answer.items(), columns = [\"PRODUCT_ID\", \"PRODUCT_LENGTH\"])\n",
    "real_answer_df.to_csv(\"submission.csv\", index = False)"
   ]
  },
  {
   "cell_type": "code",
   "execution_count": null,
   "id": "c5e34c6a",
   "metadata": {
    "id": "c5e34c6a",
    "outputId": "8f36afda-106f-49f2-deb3-6326ad2f5f83"
   },
   "outputs": [],
   "source": [
    "real_answer_df"
   ]
  },
  {
   "cell_type": "code",
   "execution_count": null,
   "id": "fdbbc259",
   "metadata": {
    "id": "fdbbc259"
   },
   "outputs": [],
   "source": []
  },
  {
   "cell_type": "code",
   "execution_count": null,
   "id": "29e0c751",
   "metadata": {},
   "outputs": [],
   "source": []
  },
  {
   "cell_type": "code",
   "execution_count": null,
   "id": "a45fd626",
   "metadata": {},
   "outputs": [],
   "source": []
  },
  {
   "cell_type": "code",
   "execution_count": null,
   "id": "ad4a2f2e",
   "metadata": {},
   "outputs": [],
   "source": [
    " "
   ]
  }
 ],
 "metadata": {
  "colab": {
   "provenance": []
  },
  "kernelspec": {
   "display_name": "Python 3 (ipykernel)",
   "language": "python",
   "name": "python3"
  },
  "language_info": {
   "codemirror_mode": {
    "name": "ipython",
    "version": 3
   },
   "file_extension": ".py",
   "mimetype": "text/x-python",
   "name": "python",
   "nbconvert_exporter": "python",
   "pygments_lexer": "ipython3",
   "version": "3.10.9"
  }
 },
 "nbformat": 4,
 "nbformat_minor": 5
}
