{
 "cells": [
  {
   "cell_type": "code",
   "execution_count": 1,
   "id": "517dc38e",
   "metadata": {
    "scrolled": true
   },
   "outputs": [
    {
     "name": "stderr",
     "output_type": "stream",
     "text": [
      "/Users/software/anaconda3/lib/python3.10/site-packages/tqdm/auto.py:22: TqdmWarning: IProgress not found. Please update jupyter and ipywidgets. See https://ipywidgets.readthedocs.io/en/stable/user_install.html\n",
      "  from .autonotebook import tqdm as notebook_tqdm\n"
     ]
    }
   ],
   "source": [
    "import datasets\n",
    "import numpy as np\n",
    "import os\n",
    "import pandas as pd\n",
    "import re\n",
    "import torch\n",
    "import torch.nn as nn\n",
    "import torch.optim as optim\n",
    "\n",
    "from bs4 import BeautifulSoup\n",
    "from nltk.corpus import stopwords\n",
    "from sklearn.linear_model import LinearRegression"
   ]
  },
  {
   "cell_type": "code",
   "execution_count": 2,
   "id": "198c3014",
   "metadata": {},
   "outputs": [],
   "source": [
    "def group_by_product_id(df):\n",
    "    \"\"\"\n",
    "    Group a dataframe by PRODUCT_TYPE_ID and return a dictionary with PRODUCT_TYPE_ID as key and an\n",
    "    array of the dataframe with that product_id as value.\n",
    "    \n",
    "    Parameters:\n",
    "        df (pandas.DataFrame): the dataframe to group\n",
    "        \n",
    "    Returns:\n",
    "        dict: a dictionary with product_id as key and an array of the dataframe with that product_id as value\n",
    "    \"\"\"\n",
    "    result = {}\n",
    "    for product_id in df['PRODUCT_TYPE_ID'].unique():\n",
    "        result[product_id] = df[df['PRODUCT_TYPE_ID'] == product_id]\n",
    "    return result\n",
    "\n",
    "def clean_data(df):\n",
    "    # remove HTML tags from the text\n",
    "    df['TEXT'] = df['TEXT'].apply(lambda x: BeautifulSoup(x, 'html.parser').get_text())\n",
    "\n",
    "    # remove any non-alphanumeric characters from the text\n",
    "    df['TEXT'] = df['TEXT'].apply(lambda x: re.sub(r'[^a-zA-Z0-9\\*\\'\\\"\\s]', '', x))\n",
    "\n",
    "    # convert all text to lowercase\n",
    "    df['TEXT'] = df['TEXT'].apply(lambda x: x.lower())\n",
    "\n",
    "    # tokenize the text\n",
    "    df['TEXT'] = df['TEXT'].apply(lambda x: x.split())\n",
    "\n",
    "    # remove stop words using NLTK\n",
    "    stop_words = set(stopwords.words('english'))\n",
    "    df['TEXT'] = df['TEXT'].apply(lambda x: [word for word in x if word not in stop_words])\n",
    "\n",
    "    # remove words with fewer than three characters\n",
    "    df['TEXT'] = df['TEXT'].apply(lambda x: [word for word in x if len(word) > 2])\n",
    "\n",
    "    # join the tokens back into a single string\n",
    "    df['TEXT'] = df['TEXT'].apply(lambda x: ' '.join(x))\n",
    "\n",
    "    return df\n",
    "\n",
    "def preprocess(df):\n",
    "    df = df.fillna(\"\")\n",
    "    df[\"BULLET_POINTS\"] = df[\"BULLET_POINTS\"].apply(lambda x: \" \".join(str(x).strip()[1 : -1].split(\",\")))\n",
    "    df[\"TEXT\"] = df[\"TITLE\"] + \" \" + df[\"BULLET_POINTS\"] + \" \" + df[\"DESCRIPTION\"]\n",
    "#     df = clean_data(df)\n",
    "    return df"
   ]
  },
  {
   "cell_type": "code",
   "execution_count": 3,
   "id": "6817af9e",
   "metadata": {},
   "outputs": [],
   "source": [
    "DATASET_FOLDER = \"/Users/software/Desktop/amazon-ml-challenge/dataset\"\n",
    "train_file = os.path.join(DATASET_FOLDER, \"train.csv\")\n",
    "test_file = os.path.join(DATASET_FOLDER, \"test.csv\")\n",
    "train_df = pd.read_csv(train_file)\n",
    "test_df = pd.read_csv(test_file)"
   ]
  },
  {
   "cell_type": "code",
   "execution_count": 4,
   "id": "160867d3",
   "metadata": {},
   "outputs": [],
   "source": [
    "train_df = preprocess(train_df)\n",
    "test_df = preprocess(test_df)\n"
   ]
  },
  {
   "cell_type": "code",
   "execution_count": 5,
   "id": "cc32f7da",
   "metadata": {},
   "outputs": [
    {
     "data": {
      "text/html": [
       "<div>\n",
       "<style scoped>\n",
       "    .dataframe tbody tr th:only-of-type {\n",
       "        vertical-align: middle;\n",
       "    }\n",
       "\n",
       "    .dataframe tbody tr th {\n",
       "        vertical-align: top;\n",
       "    }\n",
       "\n",
       "    .dataframe thead th {\n",
       "        text-align: right;\n",
       "    }\n",
       "</style>\n",
       "<table border=\"1\" class=\"dataframe\">\n",
       "  <thead>\n",
       "    <tr style=\"text-align: right;\">\n",
       "      <th></th>\n",
       "      <th>PRODUCT_ID</th>\n",
       "      <th>TITLE</th>\n",
       "      <th>BULLET_POINTS</th>\n",
       "      <th>DESCRIPTION</th>\n",
       "      <th>PRODUCT_TYPE_ID</th>\n",
       "      <th>PRODUCT_LENGTH</th>\n",
       "      <th>TEXT</th>\n",
       "    </tr>\n",
       "  </thead>\n",
       "  <tbody>\n",
       "    <tr>\n",
       "      <th>0</th>\n",
       "      <td>1925202</td>\n",
       "      <td>ArtzFolio Tulip Flowers Blackout Curtain for D...</td>\n",
       "      <td>LUXURIOUS &amp; APPEALING: Beautiful custom-made c...</td>\n",
       "      <td></td>\n",
       "      <td>1650</td>\n",
       "      <td>2125.980000</td>\n",
       "      <td>ArtzFolio Tulip Flowers Blackout Curtain for D...</td>\n",
       "    </tr>\n",
       "    <tr>\n",
       "      <th>1</th>\n",
       "      <td>2673191</td>\n",
       "      <td>Marks &amp; Spencer Girls' Pyjama Sets T86_2561C_N...</td>\n",
       "      <td>Harry Potter Hedwig Pyjamas (6-16 Yrs) 100% co...</td>\n",
       "      <td></td>\n",
       "      <td>2755</td>\n",
       "      <td>393.700000</td>\n",
       "      <td>Marks &amp; Spencer Girls' Pyjama Sets T86_2561C_N...</td>\n",
       "    </tr>\n",
       "    <tr>\n",
       "      <th>2</th>\n",
       "      <td>2765088</td>\n",
       "      <td>PRIKNIK Horn Red Electric Air Horn Compressor ...</td>\n",
       "      <td>Loud Dual Tone Trumpet Horn  Compatible With S...</td>\n",
       "      <td>Specifications: Color: Red, Material: Aluminiu...</td>\n",
       "      <td>7537</td>\n",
       "      <td>748.031495</td>\n",
       "      <td>PRIKNIK Horn Red Electric Air Horn Compressor ...</td>\n",
       "    </tr>\n",
       "    <tr>\n",
       "      <th>3</th>\n",
       "      <td>1594019</td>\n",
       "      <td>ALISHAH Women's Cotton Ankle Length Leggings C...</td>\n",
       "      <td>Made By 95%cotton and 5% Lycra which gives you...</td>\n",
       "      <td>AISHAH Women's Lycra Cotton Ankel Leggings. Br...</td>\n",
       "      <td>2996</td>\n",
       "      <td>787.401574</td>\n",
       "      <td>ALISHAH Women's Cotton Ankle Length Leggings C...</td>\n",
       "    </tr>\n",
       "    <tr>\n",
       "      <th>4</th>\n",
       "      <td>283658</td>\n",
       "      <td>The United Empire Loyalists: A Chronicle of th...</td>\n",
       "      <td></td>\n",
       "      <td></td>\n",
       "      <td>6112</td>\n",
       "      <td>598.424000</td>\n",
       "      <td>The United Empire Loyalists: A Chronicle of th...</td>\n",
       "    </tr>\n",
       "    <tr>\n",
       "      <th>...</th>\n",
       "      <td>...</td>\n",
       "      <td>...</td>\n",
       "      <td>...</td>\n",
       "      <td>...</td>\n",
       "      <td>...</td>\n",
       "      <td>...</td>\n",
       "      <td>...</td>\n",
       "    </tr>\n",
       "    <tr>\n",
       "      <th>2249693</th>\n",
       "      <td>2422167</td>\n",
       "      <td>Nike Women's As W Ny Df Swsh Hn Kh Bra (CZ7610...</td>\n",
       "      <td>aterial : Polyeste</td>\n",
       "      <td></td>\n",
       "      <td>3009</td>\n",
       "      <td>1181.100000</td>\n",
       "      <td>Nike Women's As W Ny Df Swsh Hn Kh Bra (CZ7610...</td>\n",
       "    </tr>\n",
       "    <tr>\n",
       "      <th>2249694</th>\n",
       "      <td>2766635</td>\n",
       "      <td>(3PCS) Goose Game Cute Cartoon Enamel Pins, Fu...</td>\n",
       "      <td>❤ [Inspiration] Inspired by the Untitled Goose...</td>\n",
       "      <td>&lt;p&gt;&lt;b&gt;[Brand]: &lt;/b&gt;XVIEONR&lt;/p&gt; &lt;p&gt;&lt;br&gt;&lt;/p&gt; &lt;p&gt;...</td>\n",
       "      <td>3413</td>\n",
       "      <td>125.984252</td>\n",
       "      <td>(3PCS) Goose Game Cute Cartoon Enamel Pins, Fu...</td>\n",
       "    </tr>\n",
       "    <tr>\n",
       "      <th>2249695</th>\n",
       "      <td>1987786</td>\n",
       "      <td>Kangroo Sweep Movement Printed Wooden Wall Clo...</td>\n",
       "      <td>Dial size: 12 inches in diameter Big  clear re...</td>\n",
       "      <td>Wall Clocks Are Very Attractive In Looks And E...</td>\n",
       "      <td>1574</td>\n",
       "      <td>1200.000000</td>\n",
       "      <td>Kangroo Sweep Movement Printed Wooden Wall Clo...</td>\n",
       "    </tr>\n",
       "    <tr>\n",
       "      <th>2249696</th>\n",
       "      <td>1165754</td>\n",
       "      <td>Electro Voice EKX-BRKT15 | Wall Mount Bracket ...</td>\n",
       "      <td></td>\n",
       "      <td></td>\n",
       "      <td>592</td>\n",
       "      <td>2900.000000</td>\n",
       "      <td>Electro Voice EKX-BRKT15 | Wall Mount Bracket ...</td>\n",
       "    </tr>\n",
       "    <tr>\n",
       "      <th>2249697</th>\n",
       "      <td>1072666</td>\n",
       "      <td>Skyjacker C7360SP Component Box For PN[C7360PK...</td>\n",
       "      <td>Component Box For PN[C7360PK] 4 in. Lift Incl....</td>\n",
       "      <td>Skyjacker C7360SP Component Box For PN[C7360PK...</td>\n",
       "      <td>7367</td>\n",
       "      <td>2000.000000</td>\n",
       "      <td>Skyjacker C7360SP Component Box For PN[C7360PK...</td>\n",
       "    </tr>\n",
       "  </tbody>\n",
       "</table>\n",
       "<p>2249698 rows × 7 columns</p>\n",
       "</div>"
      ],
      "text/plain": [
       "         PRODUCT_ID                                              TITLE  \\\n",
       "0           1925202  ArtzFolio Tulip Flowers Blackout Curtain for D...   \n",
       "1           2673191  Marks & Spencer Girls' Pyjama Sets T86_2561C_N...   \n",
       "2           2765088  PRIKNIK Horn Red Electric Air Horn Compressor ...   \n",
       "3           1594019  ALISHAH Women's Cotton Ankle Length Leggings C...   \n",
       "4            283658  The United Empire Loyalists: A Chronicle of th...   \n",
       "...             ...                                                ...   \n",
       "2249693     2422167  Nike Women's As W Ny Df Swsh Hn Kh Bra (CZ7610...   \n",
       "2249694     2766635  (3PCS) Goose Game Cute Cartoon Enamel Pins, Fu...   \n",
       "2249695     1987786  Kangroo Sweep Movement Printed Wooden Wall Clo...   \n",
       "2249696     1165754  Electro Voice EKX-BRKT15 | Wall Mount Bracket ...   \n",
       "2249697     1072666  Skyjacker C7360SP Component Box For PN[C7360PK...   \n",
       "\n",
       "                                             BULLET_POINTS  \\\n",
       "0        LUXURIOUS & APPEALING: Beautiful custom-made c...   \n",
       "1        Harry Potter Hedwig Pyjamas (6-16 Yrs) 100% co...   \n",
       "2        Loud Dual Tone Trumpet Horn  Compatible With S...   \n",
       "3        Made By 95%cotton and 5% Lycra which gives you...   \n",
       "4                                                            \n",
       "...                                                    ...   \n",
       "2249693                                 aterial : Polyeste   \n",
       "2249694  ❤ [Inspiration] Inspired by the Untitled Goose...   \n",
       "2249695  Dial size: 12 inches in diameter Big  clear re...   \n",
       "2249696                                                      \n",
       "2249697  Component Box For PN[C7360PK] 4 in. Lift Incl....   \n",
       "\n",
       "                                               DESCRIPTION  PRODUCT_TYPE_ID  \\\n",
       "0                                                                      1650   \n",
       "1                                                                      2755   \n",
       "2        Specifications: Color: Red, Material: Aluminiu...             7537   \n",
       "3        AISHAH Women's Lycra Cotton Ankel Leggings. Br...             2996   \n",
       "4                                                                      6112   \n",
       "...                                                    ...              ...   \n",
       "2249693                                                                3009   \n",
       "2249694  <p><b>[Brand]: </b>XVIEONR</p> <p><br></p> <p>...             3413   \n",
       "2249695  Wall Clocks Are Very Attractive In Looks And E...             1574   \n",
       "2249696                                                                 592   \n",
       "2249697  Skyjacker C7360SP Component Box For PN[C7360PK...             7367   \n",
       "\n",
       "         PRODUCT_LENGTH                                               TEXT  \n",
       "0           2125.980000  ArtzFolio Tulip Flowers Blackout Curtain for D...  \n",
       "1            393.700000  Marks & Spencer Girls' Pyjama Sets T86_2561C_N...  \n",
       "2            748.031495  PRIKNIK Horn Red Electric Air Horn Compressor ...  \n",
       "3            787.401574  ALISHAH Women's Cotton Ankle Length Leggings C...  \n",
       "4            598.424000  The United Empire Loyalists: A Chronicle of th...  \n",
       "...                 ...                                                ...  \n",
       "2249693     1181.100000  Nike Women's As W Ny Df Swsh Hn Kh Bra (CZ7610...  \n",
       "2249694      125.984252  (3PCS) Goose Game Cute Cartoon Enamel Pins, Fu...  \n",
       "2249695     1200.000000  Kangroo Sweep Movement Printed Wooden Wall Clo...  \n",
       "2249696     2900.000000  Electro Voice EKX-BRKT15 | Wall Mount Bracket ...  \n",
       "2249697     2000.000000  Skyjacker C7360SP Component Box For PN[C7360PK...  \n",
       "\n",
       "[2249698 rows x 7 columns]"
      ]
     },
     "execution_count": 5,
     "metadata": {},
     "output_type": "execute_result"
    }
   ],
   "source": [
    "train_df"
   ]
  },
  {
   "cell_type": "code",
   "execution_count": 8,
   "id": "289ff184",
   "metadata": {},
   "outputs": [],
   "source": [
    "train_df.to_csv(\"csv.csv\")"
   ]
  },
  {
   "cell_type": "code",
   "execution_count": 7,
   "id": "c8a9f8f4",
   "metadata": {},
   "outputs": [
    {
     "ename": "NameError",
     "evalue": "name 'dimension_pattern' is not defined",
     "output_type": "error",
     "traceback": [
      "\u001b[0;31m---------------------------------------------------------------------------\u001b[0m",
      "\u001b[0;31mNameError\u001b[0m                                 Traceback (most recent call last)",
      "Cell \u001b[0;32mIn[7], line 2\u001b[0m\n\u001b[1;32m      1\u001b[0m df \u001b[38;5;241m=\u001b[39m train_df\n\u001b[0;32m----> 2\u001b[0m matches \u001b[38;5;241m=\u001b[39m df[\u001b[38;5;124m'\u001b[39m\u001b[38;5;124mBULLET_POINTS\u001b[39m\u001b[38;5;124m'\u001b[39m]\u001b[38;5;241m.\u001b[39mstr\u001b[38;5;241m.\u001b[39mextract(\u001b[43mdimension_pattern\u001b[49m)\n",
      "\u001b[0;31mNameError\u001b[0m: name 'dimension_pattern' is not defined"
     ]
    }
   ],
   "source": [
    "df = train_df\n",
    "matches = df['BULLET_POINTS'].str.extract(dimension_pattern)"
   ]
  },
  {
   "cell_type": "code",
   "execution_count": null,
   "id": "cf80be40",
   "metadata": {},
   "outputs": [],
   "source": [
    "matches"
   ]
  },
  {
   "cell_type": "code",
   "execution_count": null,
   "id": "d63b077c",
   "metadata": {},
   "outputs": [],
   "source": [
    "df = df.join(matches)\n",
    "df"
   ]
  },
  {
   "cell_type": "code",
   "execution_count": null,
   "id": "bf9e9dbd",
   "metadata": {},
   "outputs": [],
   "source": [
    "df[8] = df[8].fillna('in')\n",
    "df.loc[df[8].str.contains('in'), 0] = df.loc[df[8].str.contains('in'), 0].apply(lambda x: float(x) * 100)\n",
    "df.loc[df[8].str.contains('cm'), 0] = df.loc[df[8].str.contains('cm'), 0].apply(lambda x: float(x) / 2.54 * 100)\n",
    "df.loc[df[8].str.contains('mm'), 0] = df.loc[df[8].str.contains('mm'), 0].apply(lambda x: float(x) / 25.4 * 100)"
   ]
  },
  {
   "cell_type": "code",
   "execution_count": null,
   "id": "db545cfa",
   "metadata": {},
   "outputs": [],
   "source": [
    "groups = group_by_product_id(train_df)\n",
    "groups = list(groups.items())\n",
    "groups.sort(key = lambda x: len(x[1]), reverse = True)\n",
    "type_to_mean = {}\n",
    "for key, value in groups:\n",
    "    type_to_mean[str(key)] = value[\"PRODUCT_LENGTH\"].median()\n",
    "answer = {}\n",
    "for i in range(len(test_df)):\n",
    "    data = test_df.iloc[i]\n",
    "    pid = data[\"PRODUCT_ID\"]\n",
    "    key = str(data[\"PRODUCT_TYPE_ID\"])\n",
    "    value = 1\n",
    "    if key in type_to_mean.keys():\n",
    "        value = type_to_mean[key]\n",
    "    answer[pid] = value"
   ]
  },
  {
   "cell_type": "code",
   "execution_count": null,
   "id": "bb265399",
   "metadata": {},
   "outputs": [],
   "source": [
    "answer_df = pd.DataFrame(answer.items(), columns = [\"PRODUCT_ID\", \"PRODUCT_LENGTH\"])"
   ]
  },
  {
   "cell_type": "code",
   "execution_count": null,
   "id": "b0fd272f",
   "metadata": {},
   "outputs": [],
   "source": [
    "# Merge df1 and df2 on the \"PRODUCT_ID\" column\n",
    "merged_df = pd.merge(answer_df[[\"PRODUCT_ID\", \"PRODUCT_LENGTH\"]], df[[\"PRODUCT_ID\", 0]], on=\"PRODUCT_ID\", how=\"left\")\n",
    "\n",
    "# Replace missing values in \"PRODUCT_LENGTH_x\" with the corresponding values from \"PRODUCT_LENGTH_y\"\n",
    "merged_df[0].fillna(merged_df[\"PRODUCT_LENGTH\"], inplace=True)\n",
    "\n",
    "# Drop the \"PRODUCT_LENGTH_y\" column\n",
    "merged_df.drop(columns=[\"PRODUCT_LENGTH\"], inplace=True)\n",
    "\n",
    "# Rename the \"PRODUCT_LENGTH_x\" column to \"PRODUCT_LENGTH\"\n",
    "merged_df.rename(columns={0: \"PRODUCT_LENGTH\"}, inplace=True)\n",
    "\n",
    "# Update the \"PRODUCT_LENGTH\" column in df1 with the values from the merged dataframe\n",
    "answer_df[\"PRODUCT_LENGTH\"] = merged_df[\"PRODUCT_LENGTH\"]"
   ]
  },
  {
   "cell_type": "code",
   "execution_count": null,
   "id": "8361d1a1",
   "metadata": {},
   "outputs": [],
   "source": [
    "answer_df"
   ]
  },
  {
   "cell_type": "code",
   "execution_count": null,
   "id": "c35b0aa8",
   "metadata": {},
   "outputs": [],
   "source": [
    "sample_df = pd.read_csv(\"../dataset/sample_submission.csv\")\n",
    "real_answer = {}\n",
    "factor = 0.95\n",
    "\n",
    "for i in range(len(answer_df)):\n",
    "    from_sample = sample_df.iloc[i]\n",
    "    from_ours = answer_df.iloc[i]\n",
    "    v1 = from_sample[\"PRODUCT_LENGTH\"]\n",
    "    v2 = float(from_ours[\"PRODUCT_LENGTH\"])\n",
    "    pid = int(from_sample[\"PRODUCT_ID\"])\n",
    "    if v2 >= v1 + factor * v1 or v2 <= v1 - factor * v1:\n",
    "        real_answer[pid] = v1\n",
    "    else:\n",
    "        real_answer[pid] = v2\n",
    "\n",
    "real_answer_df = pd.DataFrame(real_answer.items(), columns = [\"PRODUCT_ID\", \"PRODUCT_LENGTH\"])\n",
    "real_answer_df.to_csv(\"submission.csv\", index = False)"
   ]
  },
  {
   "cell_type": "code",
   "execution_count": null,
   "id": "0734b2f6",
   "metadata": {},
   "outputs": [],
   "source": [
    "real_answer_df"
   ]
  },
  {
   "cell_type": "code",
   "execution_count": null,
   "id": "9af91cca",
   "metadata": {},
   "outputs": [],
   "source": [
    "text = list(train_df[\"TEXT\"])\n",
    "print(text)\n"
   ]
  },
  {
   "cell_type": "code",
   "execution_count": null,
   "id": "84aaef54",
   "metadata": {},
   "outputs": [],
   "source": [
    "text = list(train_df[\"TEXT\"])\n",
    "import spacy\n",
    "nlp = spacy.load(\"en_core_web_sm\")\n",
    "ents=[]\n",
    "for string in text:\n",
    "    doc = nlp(string)\n"
   ]
  },
  {
   "cell_type": "code",
   "execution_count": null,
   "id": "66b4e715",
   "metadata": {},
   "outputs": [],
   "source": []
  }
 ],
 "metadata": {
  "kernelspec": {
   "display_name": "Python 3 (ipykernel)",
   "language": "python",
   "name": "python3"
  },
  "language_info": {
   "codemirror_mode": {
    "name": "ipython",
    "version": 3
   },
   "file_extension": ".py",
   "mimetype": "text/x-python",
   "name": "python",
   "nbconvert_exporter": "python",
   "pygments_lexer": "ipython3",
   "version": "3.10.9"
  }
 },
 "nbformat": 4,
 "nbformat_minor": 5
}
